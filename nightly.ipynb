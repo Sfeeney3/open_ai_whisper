{
 "cells": [
  {
   "cell_type": "markdown",
   "id": "613c64bb-a473-4b03-bf37-67501d57976c",
   "metadata": {},
   "source": [
    "#### Initialize the Pyspark connection to the cluster"
   ]
  },
  {
   "cell_type": "code",
   "execution_count": 1,
   "id": "bb00fa45-bc20-4a19-a263-ad8a563436a0",
   "metadata": {
    "execution": {
     "iopub.execute_input": "2023-01-16T23:11:58.760764Z",
     "iopub.status.busy": "2023-01-16T23:11:58.758902Z",
     "iopub.status.idle": "2023-01-16T23:12:12.582675Z",
     "shell.execute_reply": "2023-01-16T23:12:12.579566Z",
     "shell.execute_reply.started": "2023-01-16T23:11:58.760655Z"
    },
    "tags": []
   },
   "outputs": [
    {
     "name": "stdout",
     "output_type": "stream",
     "text": [
      "23/01/16 16:12:05 WARN Utils: Your hostname, localhost.localdomain resolves to a loopback address: 127.0.0.1; using 192.168.0.74 instead (on interface enp0s4)\n",
      "23/01/16 16:12:05 WARN Utils: Set SPARK_LOCAL_IP if you need to bind to another address\n"
     ]
    },
    {
     "name": "stderr",
     "output_type": "stream",
     "text": [
      "Setting default log level to \"WARN\".\n",
      "To adjust logging level use sc.setLogLevel(newLevel). For SparkR, use setLogLevel(newLevel).\n"
     ]
    },
    {
     "name": "stdout",
     "output_type": "stream",
     "text": [
      "23/01/16 16:12:07 WARN NativeCodeLoader: Unable to load native-hadoop library for your platform... using builtin-java classes where applicable\n"
     ]
    }
   ],
   "source": [
    "\n",
    "import findspark\n",
    "findspark.init() \n",
    "import pyspark\n",
    "from pyspark.sql import SparkSession\n",
    "sc = pyspark.SparkContext(master='spark://192.168.0.74:7077', appName='test')\n"
   ]
  },
  {
   "cell_type": "code",
   "execution_count": 2,
   "id": "007ce6d1-ea91-4940-9b54-42c635c1c4c9",
   "metadata": {
    "execution": {
     "iopub.execute_input": "2023-01-16T23:12:20.702790Z",
     "iopub.status.busy": "2023-01-16T23:12:20.701731Z",
     "iopub.status.idle": "2023-01-16T23:12:20.723474Z",
     "shell.execute_reply": "2023-01-16T23:12:20.720537Z",
     "shell.execute_reply.started": "2023-01-16T23:12:20.702692Z"
    },
    "tags": []
   },
   "outputs": [],
   "source": [
    "import nest_asyncio\n",
    "nest_asyncio.apply()"
   ]
  },
  {
   "cell_type": "code",
   "execution_count": 3,
   "id": "e2581c7c-b0b9-4c49-95bd-2d839c9b3ffb",
   "metadata": {
    "execution": {
     "iopub.execute_input": "2023-01-16T23:12:23.286789Z",
     "iopub.status.busy": "2023-01-16T23:12:23.286036Z",
     "iopub.status.idle": "2023-01-17T03:50:05.679414Z",
     "shell.execute_reply": "2023-01-17T03:50:05.674110Z",
     "shell.execute_reply.started": "2023-01-16T23:12:23.286731Z"
    },
    "tags": []
   },
   "outputs": [
    {
     "name": "stdout",
     "output_type": "stream",
     "text": [
      "Nightly started at 2023-01-16 16:12:29.532746\n",
      "Initializing dbObject\n",
      "successful \n",
      "\n",
      "Initializing dbObject\n",
      "successful \n",
      "\n",
      "Stage: YT Video Data Scrape\n",
      "Stage: ytRetriever init:\n",
      "End ytRetriever init\n",
      "https://www.youtube.com/@CNBCtelevision\n",
      "get RecentYT started at 2023-01-16 16:12:29.988936\n",
      "get youtube video data\n",
      "2023-01-13 00:00:00\n",
      "DELTA\n",
      "3\n",
      "get RecentYT Task Complete\n",
      "ended at 2023-01-16 16:12:43.641219\n",
      "time elapsed: 0:00:13.652283\n",
      "https://www.youtube.com/@YahooFinance\n",
      "get RecentYT started at 2023-01-16 16:12:43.649594\n",
      "get youtube video data\n"
     ]
    },
    {
     "name": "stderr",
     "output_type": "stream",
     "text": [
      "Future exception was never retrieved\n",
      "future: <Future finished exception=NetworkError('Protocol error Target.detachFromTarget: Target closed.')>\n",
      "pyppeteer.errors.NetworkError: Protocol error Target.detachFromTarget: Target closed.\n",
      "Future exception was never retrieved\n",
      "future: <Future finished exception=NetworkError('Protocol error (Target.sendMessageToTarget): No session with given id')>\n",
      "pyppeteer.errors.NetworkError: Protocol error (Target.sendMessageToTarget): No session with given id\n"
     ]
    },
    {
     "name": "stdout",
     "output_type": "stream",
     "text": [
      "2023-01-16 00:00:00\n",
      "DELTA\n",
      "0\n",
      "1\n",
      "get youtube video data\n",
      "2023-01-16 00:00:00\n",
      "DELTA\n",
      "0\n",
      "2\n",
      "get youtube video data\n",
      "2023-01-16 00:00:00\n",
      "DELTA\n",
      "0\n",
      "3\n",
      "get youtube video data\n",
      "2023-01-16 00:00:00\n",
      "DELTA\n",
      "0\n",
      "4\n",
      "get youtube video data\n",
      "2023-01-16 00:00:00\n",
      "DELTA\n",
      "0\n",
      "5\n",
      "get youtube video data\n",
      "2023-01-16 00:00:00\n",
      "DELTA\n",
      "0\n",
      "6\n",
      "get youtube video data\n",
      "2023-01-16 00:00:00\n",
      "DELTA\n",
      "0\n",
      "7\n",
      "get youtube video data\n",
      "2023-01-16 00:00:00\n",
      "DELTA\n",
      "0\n",
      "8\n",
      "get youtube video data\n",
      "2023-01-16 00:00:00\n",
      "DELTA\n",
      "0\n",
      "9\n",
      "get youtube video data\n",
      "2023-01-16 00:00:00\n",
      "DELTA\n",
      "0\n",
      "10\n",
      "get RecentYT Task Complete\n",
      "ended at 2023-01-16 16:14:57.026213\n",
      "time elapsed: 0:02:13.376619\n",
      "https://www.youtube.com/@markets\n",
      "get RecentYT started at 2023-01-16 16:14:57.027869\n",
      "get youtube video data\n",
      "2023-01-16 00:00:00\n",
      "DELTA\n",
      "0\n",
      "1\n",
      "get youtube video data\n",
      "2023-01-16 00:00:00\n",
      "DELTA\n",
      "0\n",
      "2\n",
      "get youtube video data\n",
      "2023-01-16 00:00:00\n",
      "DELTA\n",
      "0\n",
      "3\n",
      "get youtube video data\n",
      "2023-01-16 00:00:00\n",
      "DELTA\n",
      "0\n",
      "4\n",
      "get youtube video data\n",
      "2023-01-15 00:00:00\n",
      "DELTA\n",
      "1\n",
      "5\n",
      "get youtube video data\n",
      "2023-01-15 00:00:00\n",
      "DELTA\n",
      "1\n",
      "6\n",
      "get youtube video data\n",
      "2023-01-15 00:00:00\n",
      "DELTA\n",
      "1\n",
      "7\n",
      "get youtube video data\n",
      "2023-01-15 00:00:00\n",
      "DELTA\n",
      "1\n",
      "8\n",
      "get youtube video data\n",
      "2023-01-15 00:00:00\n",
      "DELTA\n",
      "1\n",
      "9\n",
      "get youtube video data\n",
      "2023-01-15 00:00:00\n",
      "DELTA\n",
      "1\n",
      "10\n",
      "get RecentYT Task Complete\n",
      "ended at 2023-01-16 16:17:05.408772\n",
      "time elapsed: 0:02:08.380903\n",
      "Stage: Transcribe YT Videos\n",
      "Stage: Transcriber init:\n",
      "End Transcriber init\n",
      "Whisper Transcribe started at 2023-01-16 16:17:24.067810\n",
      "Whisper Transcribe started at 2023-01-16 16:17:24.530772\n",
      "Whisper Transcribe started at 2023-01-16 16:17:24.939506\n",
      "Whisper Transcribe started at 2023-01-16 16:17:24.991356\n",
      "Whisper Transcribe started at 2023-01-16 16:17:24.925645Whisper Transcribe started at 2023-01-16 16:17:25.040846\n",
      "\n",
      "Whisper Transcribe started at 2023-01-16 16:17:25.140636Whisper Transcribe started at 2023-01-16 16:17:25.185695\n",
      "\n",
      "Whisper Transcribe started at 2023-01-16 16:17:25.579910\n",
      "Whisper Transcribe started at 2023-01-16 16:17:26.502587Whisper Transcribe started at 2023-01-16 16:17:26.509042\n",
      "\n",
      "Whisper Transcribe started at 2023-01-16 16:17:26.639094\n",
      "Whisper Transcribe started at 2023-01-16 16:17:26.717696\n",
      "Whisper Transcribe started at 2023-01-16 16:17:26.963799\n",
      "Whisper Transcribe started at 2023-01-16 16:17:27.166652\n",
      "Whisper Transcribe started at 2023-01-16 16:17:27.216991\n",
      "-8912086572679295699.mp4\n"
     ]
    },
    {
     "name": "stderr",
     "output_type": "stream",
     "text": [
      "/usr/local/lib/python3.9/site-packages/whisper/transcribe.py:78: UserWarning: FP16 is not supported on CPU; using FP32 instead\n",
      "  warnings.warn(\"FP16 is not supported on CPU; using FP32 instead\")\n"
     ]
    },
    {
     "name": "stdout",
     "output_type": "stream",
     "text": [
      "3894180514499504313.mp4\n",
      "-2872664509673314762.mp4"
     ]
    },
    {
     "name": "stderr",
     "output_type": "stream",
     "text": [
      "/usr/local/lib/python3.9/site-packages/whisper/transcribe.py:78: UserWarning: FP16 is not supported on CPU; using FP32 instead\n",
      "  warnings.warn(\"FP16 is not supported on CPU; using FP32 instead\")\n"
     ]
    },
    {
     "name": "stdout",
     "output_type": "stream",
     "text": [
      "\n",
      "411957660053850533.mp4"
     ]
    },
    {
     "name": "stderr",
     "output_type": "stream",
     "text": [
      "/usr/local/lib/python3.9/site-packages/whisper/transcribe.py:78: UserWarning: FP16 is not supported on CPU; using FP32 instead\n",
      "  warnings.warn(\"FP16 is not supported on CPU; using FP32 instead\")\n"
     ]
    },
    {
     "name": "stdout",
     "output_type": "stream",
     "text": [
      "\n",
      "-1366895440860029403.mp4"
     ]
    },
    {
     "name": "stderr",
     "output_type": "stream",
     "text": [
      "/usr/local/lib/python3.9/site-packages/whisper/transcribe.py:78: UserWarning: FP16 is not supported on CPU; using FP32 instead\n",
      "  warnings.warn(\"FP16 is not supported on CPU; using FP32 instead\")\n"
     ]
    },
    {
     "name": "stdout",
     "output_type": "stream",
     "text": [
      "\n"
     ]
    },
    {
     "name": "stderr",
     "output_type": "stream",
     "text": [
      "/usr/local/lib/python3.9/site-packages/whisper/transcribe.py:78: UserWarning: FP16 is not supported on CPU; using FP32 instead\n",
      "  warnings.warn(\"FP16 is not supported on CPU; using FP32 instead\")\n"
     ]
    },
    {
     "name": "stdout",
     "output_type": "stream",
     "text": [
      "1543350130489479404.mp4\n"
     ]
    },
    {
     "name": "stderr",
     "output_type": "stream",
     "text": [
      "/usr/local/lib/python3.9/site-packages/whisper/transcribe.py:78: UserWarning: FP16 is not supported on CPU; using FP32 instead\n",
      "  warnings.warn(\"FP16 is not supported on CPU; using FP32 instead\")\n"
     ]
    },
    {
     "name": "stdout",
     "output_type": "stream",
     "text": [
      "1839569351894958251.mp4\n",
      "5603190856426998629.mp4\n"
     ]
    },
    {
     "name": "stderr",
     "output_type": "stream",
     "text": [
      "/usr/local/lib/python3.9/site-packages/whisper/transcribe.py:78: UserWarning: FP16 is not supported on CPU; using FP32 instead\n",
      "  warnings.warn(\"FP16 is not supported on CPU; using FP32 instead\")\n"
     ]
    },
    {
     "name": "stdout",
     "output_type": "stream",
     "text": [
      "-2972372448410562366.mp4"
     ]
    },
    {
     "name": "stderr",
     "output_type": "stream",
     "text": [
      "/usr/local/lib/python3.9/site-packages/whisper/transcribe.py:78: UserWarning: FP16 is not supported on CPU; using FP32 instead\n",
      "  warnings.warn(\"FP16 is not supported on CPU; using FP32 instead\")\n"
     ]
    },
    {
     "name": "stdout",
     "output_type": "stream",
     "text": [
      "\n",
      "2631176899074257193.mp4"
     ]
    },
    {
     "name": "stderr",
     "output_type": "stream",
     "text": [
      "/usr/local/lib/python3.9/site-packages/whisper/transcribe.py:78: UserWarning: FP16 is not supported on CPU; using FP32 instead\n",
      "  warnings.warn(\"FP16 is not supported on CPU; using FP32 instead\")\n"
     ]
    },
    {
     "name": "stdout",
     "output_type": "stream",
     "text": [
      "\n"
     ]
    },
    {
     "name": "stderr",
     "output_type": "stream",
     "text": [
      "/usr/local/lib/python3.9/site-packages/whisper/transcribe.py:78: UserWarning: FP16 is not supported on CPU; using FP32 instead\n",
      "  warnings.warn(\"FP16 is not supported on CPU; using FP32 instead\")\n"
     ]
    },
    {
     "name": "stdout",
     "output_type": "stream",
     "text": [
      "-3849003800868257884.mp4\n",
      "5176396450662592461.mp4"
     ]
    },
    {
     "name": "stderr",
     "output_type": "stream",
     "text": [
      "/usr/local/lib/python3.9/site-packages/whisper/transcribe.py:78: UserWarning: FP16 is not supported on CPU; using FP32 instead\n",
      "  warnings.warn(\"FP16 is not supported on CPU; using FP32 instead\")\n"
     ]
    },
    {
     "name": "stdout",
     "output_type": "stream",
     "text": [
      "\n"
     ]
    },
    {
     "name": "stderr",
     "output_type": "stream",
     "text": [
      "/usr/local/lib/python3.9/site-packages/whisper/transcribe.py:78: UserWarning: FP16 is not supported on CPU; using FP32 instead\n",
      "  warnings.warn(\"FP16 is not supported on CPU; using FP32 instead\")\n"
     ]
    },
    {
     "name": "stdout",
     "output_type": "stream",
     "text": [
      "-277603263828448390.mp4\n"
     ]
    },
    {
     "name": "stderr",
     "output_type": "stream",
     "text": [
      "/usr/local/lib/python3.9/site-packages/whisper/transcribe.py:78: UserWarning: FP16 is not supported on CPU; using FP32 instead\n",
      "  warnings.warn(\"FP16 is not supported on CPU; using FP32 instead\")\n"
     ]
    },
    {
     "name": "stdout",
     "output_type": "stream",
     "text": [
      "588772552978104028.mp4\n"
     ]
    },
    {
     "name": "stderr",
     "output_type": "stream",
     "text": [
      "/usr/local/lib/python3.9/site-packages/whisper/transcribe.py:78: UserWarning: FP16 is not supported on CPU; using FP32 instead\n",
      "  warnings.warn(\"FP16 is not supported on CPU; using FP32 instead\")\n"
     ]
    },
    {
     "name": "stdout",
     "output_type": "stream",
     "text": [
      "3021835930664774509.mp4\n"
     ]
    },
    {
     "name": "stderr",
     "output_type": "stream",
     "text": [
      "/usr/local/lib/python3.9/site-packages/whisper/transcribe.py:78: UserWarning: FP16 is not supported on CPU; using FP32 instead\n",
      "  warnings.warn(\"FP16 is not supported on CPU; using FP32 instead\")\n"
     ]
    },
    {
     "name": "stdout",
     "output_type": "stream",
     "text": [
      "-3238821910150597738.mp4\n"
     ]
    },
    {
     "name": "stderr",
     "output_type": "stream",
     "text": [
      "/usr/local/lib/python3.9/site-packages/whisper/transcribe.py:78: UserWarning: FP16 is not supported on CPU; using FP32 instead\n",
      "  warnings.warn(\"FP16 is not supported on CPU; using FP32 instead\")\n"
     ]
    },
    {
     "name": "stdout",
     "output_type": "stream",
     "text": [
      "Whisper Transcribe Task Complete\n",
      "ended at 2023-01-16 16:39:29.376664\n",
      "time elapsed: 0:22:04.437158\n",
      "Whisper Transcribe started at 2023-01-16 16:39:48.998665\n",
      "6973960729266620933.mp4\n"
     ]
    },
    {
     "name": "stderr",
     "output_type": "stream",
     "text": [
      "/usr/local/lib/python3.9/site-packages/whisper/transcribe.py:78: UserWarning: FP16 is not supported on CPU; using FP32 instead\n",
      "  warnings.warn(\"FP16 is not supported on CPU; using FP32 instead\")\n"
     ]
    },
    {
     "name": "stdout",
     "output_type": "stream",
     "text": [
      "Whisper Transcribe Task Complete\n",
      "ended at 2023-01-16 17:23:37.854409\n",
      "time elapsed: 1:06:11.215315\n",
      "Whisper Transcribe started at 2023-01-16 17:24:00.061064\n",
      "-2519599834381879293.mp4\n"
     ]
    },
    {
     "name": "stderr",
     "output_type": "stream",
     "text": [
      "/usr/local/lib/python3.9/site-packages/whisper/transcribe.py:78: UserWarning: FP16 is not supported on CPU; using FP32 instead\n",
      "  warnings.warn(\"FP16 is not supported on CPU; using FP32 instead\")\n"
     ]
    },
    {
     "name": "stdout",
     "output_type": "stream",
     "text": [
      "Whisper Transcribe Task Complete\n",
      "ended at 2023-01-16 17:34:06.379721\n",
      "time elapsed: 1:16:42.311911\n",
      "Whisper Transcribe started at 2023-01-16 17:34:25.628617\n",
      "-4345438456442948124.mp4\n"
     ]
    },
    {
     "name": "stderr",
     "output_type": "stream",
     "text": [
      "/usr/local/lib/python3.9/site-packages/whisper/transcribe.py:78: UserWarning: FP16 is not supported on CPU; using FP32 instead\n",
      "  warnings.warn(\"FP16 is not supported on CPU; using FP32 instead\")\n"
     ]
    },
    {
     "name": "stdout",
     "output_type": "stream",
     "text": [
      "Whisper Transcribe Task Complete\n",
      "ended at 2023-01-16 17:40:18.253594\n",
      "time elapsed: 1:22:53.327949\n",
      "Whisper Transcribe started at 2023-01-16 17:40:44.488462\n",
      "-6475849680737158021.mp4\n"
     ]
    },
    {
     "name": "stderr",
     "output_type": "stream",
     "text": [
      "/usr/local/lib/python3.9/site-packages/whisper/transcribe.py:78: UserWarning: FP16 is not supported on CPU; using FP32 instead\n",
      "  warnings.warn(\"FP16 is not supported on CPU; using FP32 instead\")\n"
     ]
    },
    {
     "name": "stdout",
     "output_type": "stream",
     "text": [
      "Whisper Transcribe Task Complete\n",
      "ended at 2023-01-16 18:01:58.327636\n",
      "time elapsed: 1:44:32.747726\n",
      "Whisper Transcribe Task Complete\n",
      "ended at 2023-01-16 18:16:30.092403\n",
      "time elapsed: 1:36:41.093738\n",
      "Whisper Transcribe Task Complete\n",
      "ended at 2023-01-16 18:18:00.223172\n",
      "time elapsed: 2:00:33.505476\n",
      "Whisper Transcribe Task Complete\n",
      "ended at 2023-01-16 18:40:27.181628\n",
      "time elapsed: 2:23:00.679041\n",
      "Whisper Transcribe Task Complete\n",
      "ended at 2023-01-16 18:47:29.703384\n",
      "time elapsed: 2:30:04.712028\n",
      "Whisper Transcribe Task Complete\n",
      "ended at 2023-01-16 19:07:08.259474\n",
      "time elapsed: 1:32:42.630857\n",
      "Whisper Transcribe Task Complete\n",
      "ended at 2023-01-16 19:11:49.592126\n",
      "time elapsed: 1:31:05.103664\n",
      "Whisper Transcribe Task Complete\n",
      "ended at 2023-01-16 19:33:24.011195\n",
      "time elapsed: 3:15:58.870559\n",
      "Whisper Transcribe Task Complete\n",
      "ended at 2023-01-16 19:43:15.129881\n",
      "time elapsed: 3:25:47.963229\n",
      "Whisper Transcribe Task Complete\n",
      "ended at 2023-01-16 19:49:14.985884\n",
      "time elapsed: 3:31:48.476842\n",
      "Whisper Transcribe Task Complete\n",
      "ended at 2023-01-16 19:55:26.103968\n",
      "time elapsed: 3:38:01.573196\n",
      "Whisper Transcribe Task Complete\n",
      "ended at 2023-01-16 20:09:06.122079\n",
      "time elapsed: 2:45:06.061015\n",
      "Whisper Transcribe Task Complete\n",
      "ended at 2023-01-16 20:09:19.061351\n",
      "time elapsed: 3:51:52.097552\n",
      "Whisper Transcribe Task Complete\n",
      "ended at 2023-01-16 20:10:12.187070\n",
      "time elapsed: 3:52:44.970079\n",
      "Whisper Transcribe Task Complete\n",
      "ended at 2023-01-16 20:22:04.068975\n",
      "time elapsed: 4:04:38.883280\n",
      "Whisper Transcribe Task Complete\n",
      "ended at 2023-01-16 20:50:04.956947\n",
      "time elapsed: 4:32:39.916101\n",
      "Stage: Summarize Text\n",
      " Thank you very much. We watch what is happening right now with the President of the United States. Not once, but now we're finding in two different locations, classified information, just out there in the open. It just goes to prove, and we're finding out now, after being sworn in, that this was discovered before the election. Another faux pas by the Biden administration, but treating law differently based upon your political beliefs. It's one President Trump one way, but treats President Biden a whole different way. That's why we had to provide a new entity from our church style to look after the weaponization of what's gone on, that you want to equal playing of the law to all Americans. But I think Congress has to investigate this. Here's an individual that's been in office for more than 40 years. Here's an individual that sat on 60 minutes that was so concerned about President Trump's documents locked in behind, and now we find it just as a vice president, keeping it for years out in the open in different locations. I do not think any American believes that justice should not be equal to all. And we've found from this administration what happened before every single election, whatever comes out that they utilize to try to falsify it, they try to have different standards for their own beliefs, that doesn't work in America. You look at President Biden. He wasn't President. He was vice president. He held these in different locations right out in the open. He criticized President Trump. Did he utilize the Justice Department to raid President Trump? Did you think that was right? They knew this has happened to President Biden before the election, but they kept it a secret from the American public. He goes on 60 minutes, criticized his President Trump, even knowing what he has done, and he wasn't President at the time. Now we find another location that it's at, but he refused to answer. This press secretary won't answer the questions. We don't think there needs to be a special prosecutor, but I think Congress has a role to look. Well, what I find is the voters have elected George Santos. If there is a concern, he will go through ethics. If there is something that is found, he will be dealt with in that manner. But they have a voice in this process. I don't see any way that he's going to have top secret. If you're referring to George Santos, he's got a long way to go to earn trust. So one thing I do know is you apply the Constitution equal to all Americans. The voters of his district have elected him. He is seated. He is part of the Republican conference. There are concerns about it, so he will go before ethics. If anything is found to be have wrong, he will be held accountable exactly as anybody else in this body would be. That is the fair way to handle anything you go in. And that's how I deal with any single issue that ever comes forward.\n",
      " We watch what is happening right now with the President of the United States.\n",
      "\n",
      " Not once, but now we're finding in two different locations, classified information, just out there in the open.\n",
      "\n",
      " It just goes to prove, and we're finding out now, after being sworn in, that this was discovered before the election.\n",
      "\n",
      " Another faux pas by the Biden administration, but treating law differently based upon your political beliefs.\n",
      "\n",
      " It's one President Trump one way, but treats President Biden a whole different way.\n",
      "\n",
      " That's why we had to provide a new entity from our church style to look after the weaponization of what's gone on, that you want to equal playing of the law to all Americans.\n",
      "\n",
      " But I think Congress has to investigate this.\n",
      "\n",
      " Did he utilize the Justice Department to raid President Trump? Did you think that was right? They knew this has happened to President Biden before the election, but they kept it a secret from the American public.\n",
      "\n",
      " We don't think there needs to be a special prosecutor, but I think Congress has a role to look.\n",
      "\n",
      " So one thing I do know is you apply the Constitution equal to all Americans.\n",
      "\n",
      " Dave Mars is here to share his knowledge as a builder and general contractor to tell us everything that we need to know about home renovations. Dave, it's great to see you here. Certainly we have seen a massive uptick in people wanting to renovate their home. There was a recent discover survey out finding that 79% of homeowners would rather renovate their homes that they move, the homes that they're in right now, then move. I'm curious to get your perspective on this as a home renovator. What are you seeing and how big of an uptick have you seen in activity? So I, hello, I could not agree with you more. The amount of remodel calls that we are getting now compared to even just a couple years ago is, it's just significant in so many ways. And I think like the last person that you had on, it interest rates is one of those big things. Now, these people are in these homes at 3 and 4% and they just don't see, they can't move to another home so they're renovating what they have. And we've seen the pandemic really shift where we want to live, but also how we want to live. What's the biggest change you've seen and the renovations people are asking for? You know, I think before the pandemic, you just saw a lot more of people, they were in the bigger cities because that's where they worked. Where now, there's a lot of people that can live wherever they want and work from home. So we're seeing a big people that their house was fine before because they were gone 60 hours a week. Now they're realizing, you know what, I'd really like to get that kitchen remodel. I'd really like to, you know, make it office, make a space that I can work from. So I think it's more just spending more time in your home and realizing some of those things that you just had kind of lived with in the past that now you really feel like you should change. And Dave, the cost of all this, we talk about a time and time again here at Yahoo Finance inflation, the impact that that has had on so many of your materials, how much more expensive are renovations today than they were two years ago? I mean, they are significantly more. And that's, I think it's everything like you're seeing in food, like you're seeing, you know, in transportation, you're seeing it across the board. I mean, we have the same trucks that the diesel is higher. We have the same, you know, import issues, the same, you know, there's a lot more people in the past two years that we're buying houses. So builders were a lot busier, so getting materials, you know, everything's supply and demand in our market and it's gone up a lot. You know, luckily though, you know, with housing, that's usually people's biggest investment. And you know, even though the house prices have slumped a little bit here in the last few months, they're significantly higher than they were, you know, prepandemic. We have the cost of renovating is more, but the supply chains have also made it far more difficult. Are you seeing easing in terms of the time it takes to get the materials you need? Yeah, and we're seeing a little bit. I mean, you still, you know, gospel for the pandemic, you know, you can order windows and four to six weeks have them where it's, it's double that now, but it's come down from 18 to 20 weeks. And so like, yeah, it is easing and I think, you know, that that comes down to supply and demand with not as many homes being bought and sold. So a lot of that is helping our labor costs are starting to fall a little bit from what they were. So yeah, it's getting better, but I still think we're just in a new normal from the prepandemic levels. It's just higher than it was and it's harder than it was to get materials. Dave, if you're a homeowner out there, you're debating whether or not you should pour the money into a home renovation. What, when do you know when it makes sense and it will increase the value of your house versus when it doesn't make sense? Right. So I mean, number one, I would decide like, do you want to, do you want to live in this house? Do you want to stay here? And I mean, if that's the case, let it be a reflection of your family, let it be something that you enjoy. You're spending a lot more time in it. And, you know, Jenny and I always say like, if you're going to just build a house to sell or build a house for someone else, that's fine. But, you know, we're really, a lot of the homes that we're remodeling and a lot of the remodels we're seeing now are people that they've found the area that they love and they've found the location that they want to be in with the community that they live with. And so there's so much value in that. So now they're just making the home a reflection of what they've always wanted it to be. And I think if all of those boxes are checked, then spend the money. This is, again, it's a great investment, something that is most people's best investment. And you're going to raise a family in there. So you better enjoy it. But conversely, Dave, for those people that do want to make a renovation, that they'll see value from if and when they do sell the home, what types of renovations best hold their value? So, you know, I mean, you think about a house like what ages? I would say a bedroom never really ages. It's four walls. I mean, you can change the paint. It's pretty easy to do. But, you know, where your fixtures are, like kitchens, bathrooms, those are big areas that you can make improvements to where you can see the money. You know, you can see the return on it. You know, a lot of what we're doing now, we're doing a lot of exterior, a lot of patios. And I don't necessarily know that that's adding a lot of value to the house, but it's raising the standard of living to the family that is there because they're spending more time there. So, you know, you've got to balance what, you know, I think you're enjoyment of the home as much as the resale of the home. I bet you've got a killer patio. Can't wait to see that. I'm checking out your Instagram feed right now. Catch them on fixer to fabulous. He's the co-host Dave Mars. Great to have you here on Yahoo Finance. Thanks, my man.\n",
      " Dave Mars is here to share his knowledge as a builder and general contractor to tell us everything that we need to know about home renovations.\n",
      "\n",
      " Dave, it's great to see you here.\n",
      "\n",
      " Certainly we have seen a massive uptick in people wanting to renovate their home.\n",
      "\n",
      " There was a recent discover survey out finding that 79% of homeowners would rather renovate their homes that they move, the homes that they're in right now, then move.\n",
      "\n",
      " I'm curious to get your perspective on this as a home renovator.\n",
      "\n",
      " What are you seeing and how big of an uptick have you seen in activity? So I, hello, I could not agree with you more.\n",
      "\n",
      " The amount of remodel calls that we are getting now compared to even just a couple years ago is, it's just significant in so many ways.\n",
      "\n",
      " So we're seeing a big people that their house was fine before because they were gone 60 hours a week.\n",
      "\n",
      " So I think it's more just spending more time in your home and realizing some of those things that you just had kind of lived with in the past that now you really feel like you should change.\n",
      "\n",
      " So now they're just making the home a reflection of what they've always wanted it to be.\n",
      "\n",
      " You can now invest more in your 401k and IRA in 2023, but should you? Let's talk retirement now with Silver Founder and CEO, or Rian Horton brought to you by Fidelity investments. Nice to see you. So not all say you should be maxing out your 401k and IRA given the state of the economy and the markets. What say you? So it's a good question. I think as consumers are starting out the year, the key thing to think about is that most consumers have time on their sides. So we look at last year, obviously the markets were down almost 20%. So the average consumer is probably feeling a little bit of pain in their retirement savings. But if you think about really investing for that 20 or 30 year time horizon, that many people will spend in retirement, getting invested is actually really critical at this moment in time. So you talk about getting invested for people that are looking to save up for retirement. What's the one or two things they need to do first or think about first? Yeah. So I think the first thing is really making sure you know where you stand today. And so the first thing you do is actually get a retirement plan in place. Get your account balances updated. Again, if you're working off numbers from last year, they're probably not correct. So get the numbers updated. And when you're updating your numbers and only think about updating your financial savings numbers, but think about spending. Spending is all about really making sure that you understand how the inflationary environment is impacting what your monthly spend is and what it'll be in the future. I'd also think about retirement income, getting a check-in to see what your retirement income looks like. Last year, social security increased the cost of living adjustment by about 8.7%. And so it's likely that your projected retirement income is actually higher looking for than it was the last time you checked. How do you factor in the recent market performance given the struggle of the S&P last year? And a lot of predictions of a of a 3000 low coming. So I think if you actually think about investing over the long term, most retirees are really thinking about investing over a 10, 20, 30 year time period. So if we think about long term returns, given that we now see higher yields on bonds as a base, actually, I think many investors when you think about investing over a cycle, think about now is a really great time to start averaging in. And again, thinking about you are investing over the long term. This isn't about perfectly timing the market, but thinking about putting your capital to work over the next couple quarters. You're on the front lines of this. You're having conversations with people who either are in or planning for retirement. What are some of the trends that you're noticing given all the uncertainty out there? And I would believe people are a little bit scarred by what happened last year. Yes, so I look, I think this last, not even just last year, but last couple of years, have been a time when I think a lot of soon to be retirees are reevaluating their plans. They're thinking about where they live in retirement. Where you live could actually probably be the biggest retirement decision you make, because of the differences in taxes in different states, the different costs of healthcare. The second thing is that retirees are really thinking a lot actually about the cost of healthcare and retirement and planning for it. With the average retirees spending upwards of $5,000 a year on healthcare costs in retirement, it's something they really have to plan for. And so I think for many retirees, as those numbers become more and more clear to them, they're taking much more proactive step in adding that retirement healthcare cost to their budgets. And we're getting great to have you here joining us as part of our retirement writing series brought to you by Fidelity Investments.\n",
      " You can now invest more in your 401k and IRA in 2023, but should you? Let's talk retirement now with Silver Founder and CEO, or Rian Horton brought to you by Fidelity investments.\n",
      "\n",
      " So not all say you should be maxing out your 401k and IRA given the state of the economy and the markets.\n",
      "\n",
      " What say you? So it's a good question.\n",
      "\n",
      " I think as consumers are starting out the year, the key thing to think about is that most consumers have time on their sides.\n",
      "\n",
      " So we look at last year, obviously the markets were down almost 20%.\n",
      "\n",
      " So the average consumer is probably feeling a little bit of pain in their retirement savings.\n",
      "\n",
      " But if you think about really investing for that 20 or 30 year time horizon, that many people will spend in retirement, getting invested is actually really critical at this moment in time.\n",
      "\n",
      " So I think if you actually think about investing over the long term, most retirees are really thinking about investing over a 10, 20, 30 year time period.\n",
      "\n",
      " So if we think about long term returns, given that we now see higher yields on bonds as a base, actually, I think many investors when you think about investing over a cycle, think about now is a really great time to start averaging in.\n",
      "\n",
      " What are some of the trends that you're noticing given all the uncertainty out there? And I would believe people are a little bit scarred by what happened last year.\n",
      "\n",
      " YouTube is testing its own slate of ads supported streaming channels and its reportedly in talks with media companies to feature their shows and movies on a hub of cable-like channels. Yahoo! Vynets is Ali Canal here with more information on this. Interesting development is media environment continues to swirl. I think this is another step for YouTube to really establish its overall streaming dominance. We've just recently saw that it won the exclusive rights for NFL Sunday ticket. That was a highly sought-out asset. They won that. They already have YouTube TV. They have a streaming service store called Primetime Channels and now we have this report from the journal that they want to be a roqueous of sorts. They are testing this concept with a small number of media partners. It could launch later this year if that testing is successful. But we see this free ad supported space do very well over the past several years like Paramounts, Pluto TV for example continuing to grow and according to S&P Global there are 23 ad supported TV platforms in the US and ad revenue from this type of service is expected to rise from 4 billion in 2022 to 9 billion by 2026. So lots of potential there. YouTube is a really big revenues driver for Alphabet. They have the money to do it. Of course there's this slowdown and overall ad spend but I think here the potential reward outweighs the risk. If you have the money to play with that why not try something like this? We will see whether or not it's going to be successful. What do you think? I think it's an all-out takeover by YouTube in the next 10 years. I know. You don't exactly want to bet against Alphabet and Google. For sure.\n",
      " YouTube is testing its own slate of ads supported streaming channels and its reportedly in talks with media companies to feature their shows and movies on a hub of cable-like channels.\n",
      "\n",
      " Yahoo! Vynets is Ali Canal here with more information on this.\n",
      "\n",
      " Interesting development is media environment continues to swirl.\n",
      "\n",
      " I think this is another step for YouTube to really establish its overall streaming dominance.\n",
      "\n",
      " We've just recently saw that it won the exclusive rights for NFL Sunday ticket.\n",
      "\n",
      " That was a highly sought-out asset.\n",
      "\n",
      " They already have YouTube TV.\n",
      "\n",
      " They have a streaming service store called Primetime Channels and now we have this report from the journal that they want to be a roqueous of sorts.\n",
      "\n",
      " They are testing this concept with a small number of media partners.\n",
      "\n",
      " It could launch later this year if that testing is successful.\n",
      "\n",
      " Welcome back to what just happened. I'm Prost Supermanian. Elon Musk is part and parcel of the Tesla story, taking the company to extraordinary heights, but now distractions with Twitter, demand concerns in China, and strong competitors are sneaking up on the company that once had the run of the place. Let's take a look at some of Tesla's main challenges. GM. The sleeping giant EV world took its time developing strategy, centered on its ultim battery platform. We're now going to see three EVs come out this year alone joining the Chevy Bolt Hummer EV in Cadillac Lyric. GA wants to build one million EVs annually by 2025. Then there's Ford. The company already sling thousands of Mustang Mockies and Ford Lightning pickups right now. CEO Jim Farley splitting up the company to an EV business and a legacy gas power division to focus on the future. Ford said it aims to build two million EVs by 2026 when new factories come online. Then there's VW. The German giant leaning in hard with this ID sub-brand of cars, revealing the ID-7 just last week at CES. Vokes are going to intend to have 25 new EVs in the market by 2025, and some of those models we made right here in the U.S. meaning they'll qualify for this all-important federal tax cuts. Now, in addition to competition, there's the issue of Elon Musk's empty promises in the past. The delivery on those costs. In no bread, there's been a lot of vehicles here and kind of brought up in the past. It's Cybertruck, right? Cybertruck was debuted in 2019. We're supposed to come out in 2021. We will likely probably see it this year. We'll see. The Tesla Roadster. This is these 200,000-hour supercar that came out again, debut in 2019. We haven't heard much about when it's going to come out. It's probably not going to come out for a while. They've already taken huge deposits on that car. Finally, the Gen 3 Robo Taxi, the cheap Tesla that 25,000-hour Tesla that Elon Musk has talked about, brought it up in 2020, said last year, actually, we're not going to make it. Now, we're hearing that we're going to actually see a potential platformer. What it may actually might look like at their investor day at March 1st. Again, if we see that, who knows when it will actually come out in the future. Now, for us, let's talk Tesla's car designs. On popular opinion, I quite like the look of the Cybertruck, but while the overall designs are attracted for the other models, they are not going to be the same. They all long do you for refresh on me? Yeah, you know, just look at the models right now. They're all kind of long in the tooth. The Model S came out 10 years ago. Usually, automakers every three to four years will have a refresh and then a full redesign in seven years. So the Model S came out 10 years ago. We saw a refresh of it last year. And the Model X SUV that came out seven years ago, again, a refresh last year. And the Model 3, it's been out for about six years or so. And we're hearing reports that they might actually update some interior components, not a full refresh or a minor refresh show. You know, these models are kind of still a little bit older. People are still buying them, but at a certain point, when new cars come out, you might want to take a look at those. Now, Prost, I'm old enough to remember when you scooped me from outside of our office in one of those luxury competitors out there in that Mercedes ones, but there are plenty other luxury competitors that are popping about. What do we know about those luxury competitors that are really entering into the frame? You know, Brad, that's funny. That was a fun day we had with them out with that EQS. But, you know, Tesla doesn't break out their US sales, but the auto-earners has new data that shows they actually passed BMW this year as the top luxury brand in the US. Overall, not just EV. So, you know, Tesla's in a good, end-bubble spot there. But, like you said, Mercedes with those EQS models, Brad, I actually have the EQB SUV, the small SUV I'm picking it up later today to test that car. So, that's a small SUV. So, Mercedes coming on strong, BMW with the I4 and IX, Audi with its e-trons, right? So, there's a lot of competitors coming on space in the e-n, the luxury EV space. And Tesla, like we said before, you just have the kind of run of the road by itself. Now, it's kind of being joined by a lot of new cars on the road itself. And since this field is so crowded now, I mean, will people still be buying Teslas? You know, I, I, I, I have to say that is a yes. Because we've been just talking about earlier today about those big price cuts that are going to make these model threes and model wise come under that, that price cap for the IRA tax rate, that's a huge, huge kind of demand sort of bush for them. You're going to see that happening to just this quarter. But I think the biggest factor here, Richelle, is the charging network. The Tesla Supercharging Network is still is the best in the country, maybe even in the world. And we're, I've been seeing a lot of reports, people, very upset with EV, go, electric fire America, all these other charging networks, things broken, not enough chargers. You see plenty of Superchargers everywhere that you go and they're usually empty and they're pretty fast. I think that's a huge factor here, pricing and then also that, that charger network. All right, great stuff. A price remaining in that reporting for us.\n",
      " Welcome back to what just happened.\n",
      "\n",
      " Elon Musk is part and parcel of the Tesla story, taking the company to extraordinary heights, but now distractions with Twitter, demand concerns in China, and strong competitors are sneaking up on the company that once had the run of the place.\n",
      "\n",
      " Let's take a look at some of Tesla's main challenges.\n",
      "\n",
      " The sleeping giant EV world took its time developing strategy, centered on its ultim battery platform.\n",
      "\n",
      " We're now going to see three EVs come out this year alone joining the Chevy Bolt Hummer EV in Cadillac Lyric.\n",
      "\n",
      " GA wants to build one million EVs annually by 2025.\n",
      "\n",
      " The company already sling thousands of Mustang Mockies and Ford Lightning pickups right now.\n",
      "\n",
      " CEO Jim Farley splitting up the company to an EV business and a legacy gas power division to focus on the future.\n",
      "\n",
      " Vokes are going to intend to have 25 new EVs in the market by 2025, and some of those models we made right here in the U.\n",
      "\n",
      " We're supposed to come out in 2021.\n",
      "\n",
      " Americans have been feeling the pinch of high inflation at the grocery store over the past year in particular when it comes to dairy products. The latest CPI data revealing the prices of household staples like eggs, butter and milk have risen significantly over that span. The eggs number is baffling folks. We're talking about 60% year over year 11% in the last month. But what does it mean for today's farmers joining us now to help answer that question? Is Patrick Kreitzer, Tilla Mook CEO? I know I called you Tilla Mook ice cream because in my house, sir, you make a lot of stuff. We are devoted Tilla Mook ice cream fans. My kids didn't even know you made other stuff. Mint chocolate chip, by the way, is the go-to. If you could tell us how those prices of daily products are impacting your business and your farmers who you call your bosses? Yeah, there's certainly been a lot of talk about the inflation at the shelf and food prices and there should be because that's an 8-12% even higher in some categories increase in cost year over year is impacting families. But it's also important to remember what the current economic conditions are doing for the impact that they're having on the nation's farmers. The food costs at the farm level are substantially whether conditions have been challenging. On top of that, farmers are price takers, not price setters. So this cycle of costing increases and then price increases that sort of rolls through other supply chains kind of gets stopped at the farm level in the food supply chain to the extent that farmers are having to bear the impact of high input costs without the ability to necessarily pass on higher prices. And as a result of that, many farmers across various sectors and regions in the west are faced with a choice about eating into sometimes multi-generational equity on multiple years of losses just to keep the farm operating. And Patrick, when you talk about those supply chains, some of the issues, the weather, more specifically, really what we've seen over the last week or so with the weather out west, you're based in Oregon, but the massive floods that we have seen throughout the state of California, how big of an impact is that had or will potentially have on your business? Yeah, it certainly will. I mean, obviously, weather conditions have big impact on farming and the environment within which farming is taking place. Just a month or so ago, we had in a 10-day period, we had an ice storm and then a wind storm that caused power outages and we're moving generators all around to different farms and trying to keep farms operating and those same kinds of challenges are what farmers in California are experiencing today. The variability in climate, whether it be the spring we had here in the west, which was not very conducive to growing crops and resulted in feed scarcity, as well as low protein in some feeds, as well as drought that they've experienced in California, those things just continue to create a high degree of variability in farming conditions across the nation. Despite the many challenges we've just laid out, Patrick Boyd, it seems like on the surface Tilla Mook is having its moment. You've been on 113 years and yet I've never seen more. I've never heard of it more. And again, I'm focusing on the ice cream. What are the business lessons that you've learned over this past try and a couple of years? And why do you think you've emerged in this moment? Yeah, well, you know, as we entered the pandemic in 2020, we were in a phase of national expansion. We had long been, for over 100 years, been a very beloved regional brand and we had begun to move product around the west and then increasingly into the rest of the country and the pandemic hit. And one of the things that my team and I did is we sort of circled the wagons and said, you know, we're part of the system that feeds the nation. We need to take that seriously. What are the things that could shut us down? And we did a lot of contingency planning and we leaned into our obligation to help feed the nation with great tasting ice cream and cheese and cream cheese and other great products. And so we built inventory. We worked around the clock to supply products to retailers around the country. And as a result of that, we were given the opportunity to expand the business pretty substantially during that time. And we continued to take that obligation seriously in the years where we've, you know, certainly subsequently faced supply chain disruption and then, you know, high inflation, high interest rate environment. And so certainly leaning into our business model, understanding the clarity with clarity where we fit as an everyday premium product that people enjoy in their homes has been very important learnings in these last couple of years. Yeah. It's not just a COVID food that you crave when you're home, but it's probably recession proof. Quick question. Favorite flavor. I know it's like picking a favorite kid. Gotta give me one. Well, I have to admit that I've eaten chocolate, peanut butter, ice cream, just about a midnight for about 35 years. So I'll admit, I like what I like. I like the jid, admit it, that. Mint chocolate chip in my house. Little Mox CEO, Patrick Kreitz, great to have you, sir. Appreciate the time. Enjoy the weekend. Made it for the\n",
      " Americans have been feeling the pinch of high inflation at the grocery store over the past year in particular when it comes to dairy products.\n",
      "\n",
      " The latest CPI data revealing the prices of household staples like eggs, butter and milk have risen significantly over that span.\n",
      "\n",
      " The eggs number is baffling folks.\n",
      "\n",
      " We're talking about 60% year over year 11% in the last month.\n",
      "\n",
      " But what does it mean for today's farmers joining us now to help answer that question? Is Patrick Kreitzer, Tilla Mook CEO? I know I called you Tilla Mook ice cream because in my house, sir, you make a lot of stuff.\n",
      "\n",
      " We are devoted Tilla Mook ice cream fans.\n",
      "\n",
      " My kids didn't even know you made other stuff.\n",
      "\n",
      " Mint chocolate chip, by the way, is the go-to.\n",
      "\n",
      " If you could tell us how those prices of daily products are impacting your business and your farmers who you call your bosses? Yeah, there's certainly been a lot of talk about the inflation at the shelf and food prices and there should be because that's an 8-12% even higher in some categories increase in cost year over year is impacting families.\n",
      "\n",
      " And one of the things that my team and I did is we sort of circled the wagons and said, you know, we're part of the system that feeds the nation.\n",
      "\n",
      " All right, pay transparency laws aren't making it any easier for job seekers to compare salaries. Employers are responding to the rule by posting insanely wide ranges. Netflix this week posted a job that claims a range of $90,000 to $900,000. Well, one tick tocker is taking pay transparency matters into her own hands by asking people what they make. Stick a look. I sell waters and data raised here at the White House. I love it. How much do you make? Roughly three, four grand a week. How'd you get into this? I've been doing this for about 15, 16 years. I plan on a ban and we used to come down here and play and I sort of need for hydration for the people down here at the White House standing out here in the hot sun. And a lot of tourists come down here every day and they unprepared and most times they get overcharged at a vendent stand. So I come at a fair marketable price at a dollar and that's what I do. Wow, water vendor making three to four thousand dollars. I wanted to get this is why we need you. Hannah Williams is here at the founder and CEO of salary, transparent street. Hannah, it's great to see you. So many people love this. You can clearly see it by your massive following. But tell us about this channel and what got you started? Yeah. So the channel is really just a compilation of street interviews that I film with my fiance as my cameraman. We travel to country asking people what they do and how much they make. Unfortunately, I was inspired by being underpaid myself in my own career. I found out I was underpaid about 20,000 dollars as a senior data analyst and that really just opened my eyes to how people can be taken advantage of when it comes down to salary, transparency versus secrecy and things that are really adding to pay gaps that marginalized women, minorities, workers with disabilities and the LGBTQ community. So I figured the best way to show value is just to demonstrate it with strangers on the street. And you have exploded, Hannah, when we booked you everyone around the office was ecstatic. They already watched your videos. Why do you think it's such such a nerve today? Have you heard that you've you've helped in that capacity, hope open up eyes or make people more money? Absolutely. We have helped people make more money. I get DMs every single day from people telling me that our channel inspired them to advocate for themselves, negotiate their salary or just look up how much they should be making. And these are things that people are not taught how to do in school, even though we go to school for degrees to qualify for our careers. We're not taught work 101 and how to advocate for ourselves. So I think that why it's taking off so much is people want to be paid fairly, especially in the light of today's economy and money goes a long way. If we're being undercut even 10,000, 20,000 dollars in our careers, that can really hold people back. And we're paying attention. We're talking about it. We're making those. And Hannah's clearly this resonates with so many people. It's a hey, you have to look no further than your most popular video. Cut over 23 million views. I want to play a quick clip from it real quick. An attorney and how much do you make? 134. How many years of experience do you have? Eight. And any tips or tricks to break into this? I should say nine. Any tips? Make good connections. I'm a teacher. How much do you make? I make $3,000. How many years of experience do you have? Five years. I'm an educator and an artist. And I am a social director of family and community engagement. I do social work. And how much do you guys make? You go first. Together over 150. Say what my fiance. So Hannah, I'm curious when you go up to these people, how many people are open to sharing this information? And have you seen any difference, I guess, in the trends of that coming out of the pandemic? Yeah, definitely. I'm so sorry if you can hear sirens behind me. We've got to be safe. You're by. But demographics are really interesting. I always say it's like a social experiment every time we go out. We see older generations are less likely to share their salaries or talk about money in general. Younger generations like Gen Z and millennials are way more likely to share. We see more women more likely to share than men. We see white people more likely to share than any other race. It's really interesting how it trends. But usually it's about one in five people will say yes to the interview. It depends on foot traffic as well. Fascinating revelations. Do you say this next video surprised you want to get your reaction on the other side? It does your mom do. She asks his people for matter of sad. Okay. What does your dad do? He just checks. Okay. What do you ask inside? Yeah. Do you know how much they make? No. No. I know my mom makes $5. $5. What surprised you there? I thought her response was adorable. It's something that you can't even script. It was genius to try to talk to kids from a viral standpoint. I was just really surprised that she even knew what her mom did because her mom was like a psychologist or a therapist. And you know, that's the best way to describe what those people do from a kid's standpoint. So she's obviously paying attention. And Hannah, we also have one of the videos that you said is your most controversial. Now let's see why. I am a public administrator. How much do you make? $242,000. Can you describe what you do in one sentence? I oversee homeless program for a very large nonprofit in the city of Los Angeles. That's a big role. And what's your biggest struggle in that job? Not enough housing, not enough housing, not enough housing. $242,000 for public administrator. What were the comments that you got on that? They were not good. I actually had to disable comments on our Instagram and TikTok platform just because they were incredibly negative. And while we're all about transparency, we don't promote harassing or threatening anybody we interview. That's not the name of our game. So I think people were really upset that someone would make such a high salary and be in charge of a charitable organization, you know, a charitable role, especially housing given the crisis we have with housing in the country right now. But unfortunately, I think that it's a little unfair. We shouldn't be pointing fingers at each other. This isn't an employee versus employee argument. It's an employee versus employer argument. We should be wondering, what is this organization doing? What is their impact? And how are they validating that they're paying such high salaries for people in a nonprofit? I'm sure that she has incredible responsibilities as a public administrator. And so I think that's another part of it is sharing what do people do to make such high salaries? How does their cost of living and their experience play into that salary? And we should be able to validate it instead of just wondering. So it's a great conversation. It is a great conversation. I'm glad you started it. I hope next time you come on, you can interview me or we can do this on Instagram. We'll have a little salary transparency. I can ask you right now. Okay. Quick question. Yep. How much do you make? Oh, geez. You want to know how much I make? I make less than $220,000 a year. Awesome. Do you feel fairly paid? Ish. Ish. How many years of experience do you have? 25. Nice. That sounds about right. That sounds about right. Okay. She said, she said, I didn't say how much less. Hannah Williams, great to have you. Wonderful to see what you're doing there.\n",
      " All right, pay transparency laws aren't making it any easier for job seekers to compare salaries.\n",
      "\n",
      " Employers are responding to the rule by posting insanely wide ranges.\n",
      "\n",
      " Netflix this week posted a job that claims a range of $90,000 to $900,000.\n",
      "\n",
      " Well, one tick tocker is taking pay transparency matters into her own hands by asking people what they make.\n",
      "\n",
      " I sell waters and data raised here at the White House.\n",
      "\n",
      " How much do you make? Roughly three, four grand a week.\n",
      "\n",
      " How'd you get into this? I've been doing this for about 15, 16 years.\n",
      "\n",
      " I plan on a ban and we used to come down here and play and I sort of need for hydration for the people down here at the White House standing out here in the hot sun.\n",
      "\n",
      " I wanted to get this is why we need you.\n",
      "\n",
      " How much do you make? I make $3,000.\n",
      "\n",
      " Welcome back to what just happened, I'm Richella Coofer alongside Brad Smith. Now, a recent New York Times op-ed from poor Krugman has taken aim at Elon Musk over increasingly shifting the perception of the Tesla brand from a plaything of the rich and woke to an emblem of Silicon Valley excess and Elon Musk's shift to the right. I discuss the impact of Musk on his brands with the Nobel laureate and New York Times columnists to take a listen. Yeah, and this is not a judgment on the quality of Tesla's or on the quality of Elon Musk as a manager. Leave that. I'm not a car guy and I'm not going to try and give you my own opinions on the cars themselves. But the point is that this is an auto company. It's an electric vehicle company, but it's not the kind of company where you can expect an early mover, which Tesla has clearly been, to establish a sort of unchallengeable monopoly position. This is a Tesla is not going to be Microsoft, even if everything goes the way it should. It's not going to be Apple. This is not a network externalities as the economic jerk. And we're basically people use something that everybody else is using it and it's very hard to break out of it. And so you get decades of extremely high profits. The car industry is not like that. And this is fundamentally the car industry. And I mean, this is an increasingly crowded market, the EV space. And on top of that, I mean, a lot of people don't want to spend this kind of money. So we're not sure what that means for Musk at the end of the day. But you brought up Microsoft and Apple and anytime there's some sort of tech, great. There's always going to be those comparisons to a Steve Jobs. But obviously Steve Jobs had laser focus and a lot of discipline. So when you look at Elon Musk and it's the sort of culture that he's bringing into the company, what do you make of those comparisons? Yeah, no, again, I have no insight information on how much Musk's other interests are affecting the management of the company, though it's not a good sign. But yes, Jobs had a vision. And also, let me say that at least at a certain point, it mattered that Steve Jobs was perceived as a really cool guy. As somebody who, you know, there was a certain, you know, the guy in the Black Turtle Nacken jeans with the amazing device in his hand. That was something that people wanted to buy into which help to establish a position. Now you have Musk who for a while had something like the same image. He takes us to outer space. He does interesting things. But he's now hurt that image. And that's, again, I don't think, and crucially, I don't think even if Musk had been as disciplined as Steve Jobs was, that Tesla was ever going to be a sustained profit machine the way that Apple has been. It's not his fault. It's just not that kind of industry. But then, you know, I don't know anyone who's done as much to hurt his image of cool and as short of time as Musk has done. And it does raise that existential question. What does it actually mean to be a Tesla owner now versus when it first started? You had a lot of, you know, Democrats following along. You had a lot of sort of liberal elite following along. And then as Musk got more political as he sort of was more right-lead, became more vocal on Twitter. That seemed, that narrative seemed to change. What does it mean now to be a Tesla owner? Well, that's a good question. I mean, there was definitely, I mean, it's actually surprisingly hard to quantify. But it's, you know, it's almost for sure. If you want to think about who bought a Tesla with these somebody living in the wealthy suburbs of New York or San Francisco, RLA, who was highly educated, high income, but also, you know, socially liberal, it's an electric vehicle. You're helping the environment. You're part of the future. And, you know, that's now saying, well, I'm helping make money for Elon Musk is not going to appeal to that sort of person. There are wealthy people who buy luxury cars who don't have those concerns. But they probably weren't buying Teslas and they probably aren't going to start buying Teslas now because electric vehicles and saving the planet isn't their thing. And especially now, perhaps when people look at a Tesla, they don't necessarily think that anymore. It is very hard to separate the man from the brand, especially as he has become more vocal. I do want to ask about your comments. You've said that we're living in an era of petulant oligarchs. You've called Musk an insecure billionaire. Doesn't really matter at the end of the day for his brand. Well, at the end of the day, meaning 15 years from now, it probably doesn't matter because it, or put it this way, even if Musk had been everything that his fans imagined him to be 15 years from now, Tesla was unlikely to dominate. But it got to hurt now. I mean, these are, it's kind of weird. You know, we live in this high-tech age of all the stuff, but the probably personality, celebrity image has never mattered more for business. You know, I don't think that anybody, anybody who was buying a Chevrolet during the hegemony of General Motors thought much about what kind of a person Alfred Sloan was. And even, you know, Henry Ford was a character too. But still, the point is that we live in now, maybe because we're rich country and we're talking about semi-luxury goods. So the image of the figurehead for the company matters quite a lot. And boy, Musk is not doing his business any favors. I mean, and certainly when you look at some of the tweets, some of his reactions to criticism, sometimes, you know, it's great to get that direct reaction from a CEO because sometimes if a story comes out, you know, he's quick to correct it or add some new ones to it. But then some of the responses have ranged from sort of immature to spiteful as well. When you think of that picture that he paints for a brand like Tesla, some of his other companies, SpaceX, Twitter, and then you have this Twitter distraction. This idea of a distracted CEO when, for some people, he can just do no wrong. He's a genius. How should we be, what lens should we be viewing Elon Musk through? Well, I mean, it's got to be a better thing. I mean, to a certain extent, for him to be highly visible was a good thing for the business. And look, there are two kinds of people who send the hysterical hate mail. And usually it's not strictly political. There's crypto types and there's Tesla fans, Elon Musk fans. And certainly having that fan base was in some ways a good thing, but it clearly can be turned into a liability. And I have to say, I don't really understand it. I mean, if I think if I had that much money, I really wouldn't much care what people thought of me. I wouldn't be responding to random. Well, I personally, you know, if I responded to every random nasty thing somebody said on Twitter, I would have negative 30 hours in the day. And it's really amazing. But in any case, it's not a good sign. All the signals are exactly what you don't want to see in somebody who should be, like you said, laser focused on on building this, this business. And so then when you look at some of this really core sort of die hard fans that support Musk, that doesn't necessarily mean that they're the ones buying his product. So if you could give him a message as to who he should really be listening to at this point, because it does seem that he is revealing more of himself with every single tweet and every single reaction. Yeah, well, the child is, I'm not sure that this useful advice to give. Would he one thing if he were acting out of character? And you could say, you know, go back to the guy you were. This is probably who he always walks. And what happened is that he got himself, you know, had been wealth and then the purchase of Twitter empowered him to sort of reveal more of his his true self. And it's very hard to go back on that. I mean, I suppose it would, if he were to actually go quiet about, about now, QAnonish stuff for a year or people might forget about it. But this is, you know, it is amazing. I mean, I've never, and he isn't the first super rich head of it, highly innovative company to kind of go off the deep end. You know, the Henry Ford promoted the protocols of the Elders of Zion, you know, he was a crazy conspiracy minded anti-Semite. But there were different times and it probably didn't matter as much. And now it does matter. Well, that was Nobel laureate New York Times columnist and distinguished professor of economics at City University of New York, Paul Krugman there. Obviously, it's some very interesting comments from Krugman there, Brad. He did raise a good point about the sort of cult of personality because how many of us think of, you know, when we buy a jacket or something about how the CEOs tweets or their feelings about things affect our ability to buy it. But Musk, it's a very sort of, he's a very different CEO and people have a very visible reaction to him. And here's the thing, for a lot of time, especially given what he's kind of brought into the broader fold in the industry and automotive landscape, is this idea of how an electric vehicle can be sexy. Yeah, I mean, just look at all of the different names that he tosses on his vehicle. It's the S, it's the three and you turn the three backwards. What do you got to need? He's got the X and the Y. And so all of that, he's tried to make it more sexy to have an electric vehicle. He started at the very kind of luxurious end of the market there. And then for how different he's been as a CEO, I think investors very much gravitated towards the stock in some cases because they saw the value attribution to having Elon Musk as a CEO. You had a CEO and a chief marketing officer all packaged up into one. And so with how he had been valued for many years and how he continues to be a major factor within Tesla, that is going to be a lingering question mark when you when you do have some of the succession planning that is necessary to take place for a company as large as Tesla as well. And so that perhaps something that investors will be paying close attention to in the future. But as of right now, no clear indication of who that next person would be.\n",
      " Welcome back to what just happened, I'm Richella Coofer alongside Brad Smith.\n",
      "\n",
      " Now, a recent New York Times op-ed from poor Krugman has taken aim at Elon Musk over increasingly shifting the perception of the Tesla brand from a plaything of the rich and woke to an emblem of Silicon Valley excess and Elon Musk's shift to the right.\n",
      "\n",
      " I discuss the impact of Musk on his brands with the Nobel laureate and New York Times columnists to take a listen.\n",
      "\n",
      " Yeah, and this is not a judgment on the quality of Tesla's or on the quality of Elon Musk as a manager.\n",
      "\n",
      " I'm not a car guy and I'm not going to try and give you my own opinions on the cars themselves.\n",
      "\n",
      " But the point is that this is an auto company.\n",
      "\n",
      " It's an electric vehicle company, but it's not the kind of company where you can expect an early mover, which Tesla has clearly been, to establish a sort of unchallengeable monopoly position.\n",
      "\n",
      " So when you look at Elon Musk and it's the sort of culture that he's bringing into the company, what do you make of those comparisons? Yeah, no, again, I have no insight information on how much Musk's other interests are affecting the management of the company, though it's not a good sign.\n",
      "\n",
      " It's just not that kind of industry.\n",
      "\n",
      " Well, that was Nobel laureate New York Times columnist and distinguished professor of economics at City University of New York, Paul Krugman there.\n",
      "\n",
      " We're here with Jason Oppenheim, owner of the Oppenheim Group and star of selling sunset on Netflix. But before we get to selling sunset, we're going to talk about selling real estate. So what I've been hearing is a lot of doom and gloom in the market. Give us a reality check. What are you seeing out there? I'm not the doom and gloom type. I think we probably saw the bottom of the market at the end of 2022. Probably saw the height of interest rates at the end of 2022. So I'm generally optimistic, but I don't want to pretend that that means the real estate market's going to be on the ascent. I'd say we're probably in for some type of homeostasis, not much growth, probably not much downward either. Do you think you said we've kind of reached what might be a homeostasis too? For you in your business day to day, what does that look like? Well, we're going to have a rough couple of years, I think, because volume is down. So when I look at real estate, I guess there's two things. Prices, which is really what the people care about. And then there's volume, which is what real estate agents care about. In terms of prices, I think we're going to, there's going to be some stability, which is probably healthy for the market. We can't have that kind of, you know, we don't want the spikes and downs. So I think we're going to see relatively healthy market over the next few years in real estate, as it relates to prices. And we've got a lot of people that own homes that have very low interest rate loans, so they're not going to be selling. So we're going to have low supply generally, probably low-ish demand. What are kind of some of the concerns you're seeing that transcend income brackets? Interest rates largely transcend income brackets, although I think affect more the lower income brackets. That is really the hard, I mean, people talk about affordability of homes. I mean, really, it's the down payment, you got to come up with the down payment, that's always been difficult. But now you've not only do you have the down payment, now you've got to pay a, you know, a five or six percent interest rate, even on a five or ten year fixed. I think that will come down in the next couple of years, so I don't think it's a big deal if someone goes in and buys a house and has a five percent interest rate, and I don't recommend people getting 30 years anymore. You should probably get a five year. Probably you're going to be able to refinance in a few years and buying is always better than renting if you can hold the asset, and you can ride the ups and downs, and you can take advantage of the appreciation over a decade or two decades or hopefully three decades. Then I think buying really always makes sense. Doesn't make sense always in the short term, you've got transaction costs, and you know, you're limited in your mobility when you're when you're an owner. You're dealing with a lot of hassles when it comes to the roof leaks, not the land load, you know, fault anymore now, it's your problem. So if you're looking to own and then just for a couple years, you know, probably consider renting. Here in LA where, you know, when people are buying now in the situations where they are, where are you seeing the money come from, where are they, what professions generally are they in, are there any kind of trends you've seen in the cases where people are are bucking the bucking the overall slowdown? There's a lot of wealth out there still. So yeah, I'm not concerned about the luxury market. Honestly, money even really that concerned about any of the markets. There was an open house yesterday, for a $1.6 million dollar house up in the hills, 300 people came by the open house. In this, in this, you know, environment with these interest rates. So there's still demand out there. I think it's good, two years ago, even a year ago, everything was selling. I don't think that's healthy. I mean, crap was selling. And I think that developers and people should be building quality product. And I think people should be more discerning and not being, you know, a year ago, literally, you'd get 10 offers on a crappy house with no yard. Now, I think, again, it's back to a healthier market. My sense that what I'm kind of getting from you is that despite the doom and gloom narrative out there, there is bright sizing happening. And there's also a lot of shuffling going on from where you sit. Yeah, I mean, I think COVID changed a lot in our psyches. I mean, the at-home work, people more willing to, people focusing more on the house, more willing to move out of the city. I mean, you look at some of these states that, you know, were laughed at a few years ago. And now, they are, you know, where everyone's moving. I mean, Austin, Texas and Miami and Las Vegas and like Scottsdale, Arizona. I mean, these were not places people took as seriously as they do now. And I, that trend is not going to, obviously, we're going to see some, some people coming back into the big cities. I think New York and Los Angeles will be fine. And I think those cities will have some difficulty, thanks, a couple of years. But they're on the map. And now there's competition. You know, you don't have to live in LA. You don't have to live in San Francisco. You don't have to live in New York. You can now live in these other cities. And I think that's going to be a draw away from some of the big cities. If we can't get a handle on some of these macro issues that we're dealing with, I hope that we can. Like I said, I'm generally an optimist. I think that people that make money in real estate and pretty much anywhere have to be optimistic. And last thing I wanted to ask you, Jason, in the middle of all this, right, selling sunset blew up. Right. I'm sure you haven't been asked about it ever. Yeah. I'm just surprised I took this line. It took this line. Yeah, what can I do? What can I say? I wanted to surprise you. But I, my question is actually not about selling sunset itself, but why do you think it was so popular? I thought about that. And I think it's because it checks a lot of different boxes for a lot of different people. And I, and I realized that because of the people that come up to me, it's such a wide swath and a different, you know, demographics all the time. How wide are we talking here? You just wouldn't believe. Well, to every country, I go to, I've probably been to, you know, a dozen countries in the last couple of years. And it's just every age group, every ethnicity, every, I mean, it could be from like a football player to like a seven year old girl to like a 85 year old man. I mean, it's so weird. So I think, again, there's different check boxes. Real estate is just fun to watch, you know, that's my favorite thing about the show. And I think that's probably what ties in so many different demographics of people. Then I think the beautiful women and the, okay, fine, just the beautiful women. In the fashion, I think a ton of people love the women's fashion. And I'm trying to do what I can now. Los Angeles, sunset strip, you know, all the kind of restaurants and nightclubs and lounges and cafes and that kind of thing. So it's just, it's, and then of course, there's the real world drama among, you know, successful, beautiful women that are really striving to, you know, take control of their careers. So there is a lot for everybody. Thank you so much for joining us, Jason. Yeah, my pleasure. Thank you for everything.\n",
      " We're here with Jason Oppenheim, owner of the Oppenheim Group and star of selling sunset on Netflix.\n",
      "\n",
      " But before we get to selling sunset, we're going to talk about selling real estate.\n",
      "\n",
      " So what I've been hearing is a lot of doom and gloom in the market.\n",
      "\n",
      " What are you seeing out there? I'm not the doom and gloom type.\n",
      "\n",
      " I think we probably saw the bottom of the market at the end of 2022.\n",
      "\n",
      " Probably saw the height of interest rates at the end of 2022.\n",
      "\n",
      " So I'm generally optimistic, but I don't want to pretend that that means the real estate market's going to be on the ascent.\n",
      "\n",
      " I'd say we're probably in for some type of homeostasis, not much growth, probably not much downward either.\n",
      "\n",
      " Do you think you said we've kind of reached what might be a homeostasis too? For you in your business day to day, what does that look like? Well, we're going to have a rough couple of years, I think, because volume is down.\n",
      "\n",
      " My sense that what I'm kind of getting from you is that despite the doom and gloom narrative out there, there is bright sizing happening.\n",
      "\n",
      " So it can get us here, but kind of spain, same with SpaceX. SpaceX is just one of the many companies that Elon Musk is in charge of joining us now for a deeper look into his empire. We've got Yahoo! Find it's his day, Briggs live and living color in the studio. What's going on Dave? Good to see you buddy. There's a lot going on with Mr. Musk to say the least. Distracted is probably the one word that characterizes it best. There are too many potentially life-altering projects for Elon Musk, so how best to define him? Well, perhaps through his favorite lens, which is the project consuming his time, his passion, and his energy in one 280 character tweet. To do so, I had to enlist today's top tech, which is chatGPT. Here's what they came up with. Quote, Elon Musk is a South African-born American entrepreneur and business magnate known for founding companies such as Tesla Motors, SpaceX, Nurellink, and the Boring Company. He's also known for his ambitious plans to colonize Mars, revolutionize transportation with the Hyperloop, and bring high-speed internet access to remote areas via satellite. He's often considered a visionary at a pioneer in the tech industry. Well done by chatGPT, but ironically they failed to mention, and many don't know, Elon Musk is also a co-founder of chatGPT creator, OpenAI. The world's second richest man is, however, preoccupied with what Web Bush analysts Dan Ives call as one of the most overpaid tech acquisitions in history that, of course, being his $44 billion dollar Twitter buy. Unless the 90 days he's gutted the place of employees and send advertisers fleeing as well. All while watching the driver of his wealth shed 65% of its market cap in one year, well, Tesla's themselves are still struggling to be fully autonomous. His other businesses are required to essentially drive themselves. SpaceX hasn't quite colonized Mars, but it was valued at $137 billion, a true rocket ship of future wealth creation. On the opposite end of the Earth, though, Boring Company. They once promised to end traffic as we know it instead, its signature accomplishment is a $47 million dollar tunnel that one human driver takes three passengers one mile from the Vegas strip to the convention center. Neuralink. Well, they promised to transform communication with human brain implants in six months. As the monkey could tell you, there's only so much that can go on and fit in one human brain. The wheel that drives Elon's wealth is, of course, Tesla. And while Elon has unveiled the semi, teased the Cybertruck, and even marched out a humanoid robot, he's still essentially stuck in neutral, which is two models, really. The model Y and the model three, while Ford and GM continue to expand their product line in essentially every direction. With every new day, there's a new Twitter proposal from Elon, the latest being auctioning off Twitter handles. In case Elon wants a ghost account, Brad, he might consider registering at the distracted CEO. He wouldn't have to pay for it, because it is actually available right now. Distracted is the one word that characterizes his entire empire at this junction. And, dang, with that breakdown, it really does bugle the mind just how many things he has on his plate while he still has the time to tweak. But as you mentioned, there's some life-changing projects that he's working on there. Big thank you there to Dave Briggs.\n",
      " So it can get us here, but kind of spain, same with SpaceX.\n",
      "\n",
      " SpaceX is just one of the many companies that Elon Musk is in charge of joining us now for a deeper look into his empire.\n",
      "\n",
      " We've got Yahoo! Find it's his day, Briggs live and living color in the studio.\n",
      "\n",
      " What's going on Dave? Good to see you buddy.\n",
      "\n",
      " There's a lot going on with Mr.\n",
      "\n",
      " Distracted is probably the one word that characterizes it best.\n",
      "\n",
      " There are too many potentially life-altering projects for Elon Musk, so how best to define him? Well, perhaps through his favorite lens, which is the project consuming his time, his passion, and his energy in one 280 character tweet.\n",
      "\n",
      " To do so, I had to enlist today's top tech, which is chatGPT.\n",
      "\n",
      " Distracted is the one word that characterizes his entire empire at this junction.\n",
      "\n",
      " And, dang, with that breakdown, it really does bugle the mind just how many things he has on his plate while he still has the time to tweak.\n",
      "\n",
      " Oggi 16 gennaio 2023, i carapignieri del Ross, del Gis e dei comandi territoriali della lezione sicilia dell'ambito che le indagini coordinate dalla procura della Repubblica di Parermo hanno tratto in arvesto in latitante Matteo Messina Tenaro all'interno di una struttura sanitaria dove si era regano per sottoporsi a delle terapie cliniche.\n",
      " Oggi 16 gennaio 2023, i carapignieri del Ross, del Gis e dei comandi territoriali della lezione sicilia dell'ambito che le indagini coordinate dalla procura della Repubblica di Parermo hanno tratto in arvesto in latitante Matteo Messina Tenaro all'interno di una struttura sanitaria dove si era regano per sottoporsi a delle terapie cliniche.\n",
      "\n",
      " Good morning everyone and welcome to Bloomberg Surveillance Early Edition and Fronting LackWat Live in Davos. Now here's what's coming up on today's program. Inflation expectations dropped to the lowest levels in nearly two years. The vice-chair of BlackRock, Phil DeBran, tells us the US and Europe are still heading for recession. Top E when UK negotiators speak today to gauge whether a fix to the post-Brexit trading arrangements for Northern Ireland is within reach and the world economic forum is back to its winter alpine setting here in Davos after two years of pandemic disruption so don't miss our live interviews all week including more from our interview with the chief executive of the Qatar Investment Authority. So coming up this hour we'll have not only the QIA but we'll get you interviews with top bankers and just a moment we'll also speak to BlackRock vice-chair, Phillip Hildebrand. But first let's shake it on the markets with Danny Berger. Danny it's all about currencies today and good morning. Good morning to you friend it is all about currencies for us who are in front of a Bloomberg terminal in a warm office not out there in the Alps but yes we have seen the yen give back the gains that we saw this morning that's a third asset I have on that board for you the dollar is stronger but before it was all about JGB's breaching that half a percent ceiling that the BOJ had set will they change that again come Wednesday but elsewhere there is some decent risk appetite again it is starting to fade we had the best start to the year for European equities in on record really the idea that that gas is lower China's reopening so we are having a reassessment of the global economy but Bitcoin Francine that has fallen back below 21,000 it was up more than 1 percent meanwhile aren't or tumbling in today's session with China warning about false information in the market saying they're going to crack down more that has then to sentiment Francine. Danny thank you so much now we're joined here in Davos by the BlackRock vice-chair Phillip Hildebrand Phillip as always thank you so much for joining us really you're Davos veteran I know we have to go through the note that you put out but what's the mood like I don't know whether there's always a counter mood if your people are too optimistic it's bad news for the world economy yeah I think first of all it's great to be here it's good to see the world coming back to Switzerland and reopening that's very good news look I think people are still shaped by a very difficult year so I think there might be a risk that we get into a kind of excessive pessimism judging by what we've all been through there are lots of reasons to be worried but I think there are also many opportunities so we'll see how it settles in. Do you think inflation has peaked? Oh very much so I think inflation is going to drop very very quickly in fact I believe many of us will be surprised how quickly it will fall the problem is it will fall very quickly sort of 9 to 4 will be the easy part and then it's going to get very difficult to get inflation back to price stability so but at the moment I think the initial phase will be a very rapid decline in inflation. So what does it mean for central banks? Philip and you lay this out beautifully actually in your world outlook if you're a central bank if you're like the ECB or even if you're the Fed do you have to be much more careful in how you manage this from now until the summer? I think the central banks are going to continue on their tightening path they're going to be very careful very focused on not losing the long term inflation expectation anchor and so I think we're going to see you know I don't see any chances frankly of easing this year I think the market has that wrong so they're going to make sure that we can really not just get from 9 to 4 but also limit any kind of risks that inflation expectations become unanchored and because all of this is driven by labor market constraints principally it's still a supply side story it's going to be very difficult to get inflation kind of below 4% let alone below below 3% so we're in the easy phase in a sense now of this tightening cycle. But is there a problem with that markets to understand that so we have for example Fed officials saying look don't expect a Fed pivot anytime soon but the markets keep on testing it. That's right and you know I think this this notion that there could be easing this year seems to be to me to be far too optimistic because if you're the central bank you're going to want to make sure that you can get this done that you don't risk researching suddenly of inflation expectations further down the road so I think we're going to see at best some sort of pause but not quite yet and the market may need some readjusting relative to these expectations that we could be we could be seeing some easing and this is this is what we call the new it's a new regime the great moderation is over you know this notion that when the economy struggles central banks will ease that was true in the past I don't think it's going to be true this time and yet it's quite incredible to see actually the leverage being taken for companies that are leveraged and interest rates going from 0 or 1% to where we are now without more bankruptcies are you expecting zombie companies to crop up. I think it all depends how much damage will have to be inflicted on the real economy to get this this last phase of the inflation being squeezed out from let's say 4 back to 2% and you know that will be the big trade off so this will not come with our cost I do suspect at some point the central banks will kind of back off and not drive inflation all the way back to 2% that might be a moment when the market can recalibrate but for now I see the tightening process continuing to ensure that we just we don't just go from 9 to 4 but can actually continue to bring inflation back under control. So when's crunch time I mean if we tried to put inflation 4 to 2% does that coincide with the beginning of the summer months or could it be later into the year. I think we're going to see very quickly kind of dropping to 4 that's going to be in the sense the easy part and then the question will become second half of the year a mid year what do the central banks do at that point do they continue and tighten far beyond what is currently expected in order to drive inflation back to 2% I think that would entail pretty significant recessionary tendencies in the real economy a lot of damage to the real economy or do they at that point say okay we've done enough let's see what happens if we if we let inflation persist for a bit above the 2% target. So what does this mean for markets overall? Well yeah I think. But the utility or pain? So there will be opportunities you know not least in credit in short-term bonds we now have a very different outlook again when you look at where interest rates are. So for long-term investors many opportunities I think in that space for equities I suspect until we know what the central banks are going to do with that residual piece of the inflation adjustment from let's say 4 to back to 2% there are going to be some challenges around equity markets you know so some of the the enthusiasm right now with this notion that the central banks could ease again imminently I suspect that's premature so I still see some volatility here going forward until we know how the central banks are going to handle this this difficult trade-off that they pay. But in November maybe early December the talk was all about the lack of equititude the markets and what that could do in terms of kizms or things going wrong we don't really talk about that anymore. The markets have you know if you think about what's happened in the kind of Bitcoin space in many other areas the market has actually adjusted reasonably well that the banking system seems to be in pretty good shape relative structurally relative to 2008 we don't see the excessive leverage in the system so I think there is you know it's one of the positive aspects of the story here that we haven't seen kind of major disruption in the financial markets as a result of these tremendous adjustments I mean 2022 has been a year of amazing transition and adjustment. But could it just be delayed? It could be I think again it depends very much on on how damaging the recessions are going to be which again in turn will be a function of how aggressive will the central banks ultimately be to get inflation back to 2%. There's the COVID component I guess right there's a lockdown component. Does that change consumer behavior because when we say inflation has peaked but also consumer behavior has stayed strong? Could we be looking at a distorted reality? I think what we're going to see this is one of the reasons I you know I believe we're going to have certainly in Europe a mild recession probably quite likely in the US as well the savings they've been accumulated and generated as a result of COVID they're going to run off by the mid year by the summer that's going to be exactly the time when the tightening that we've seen this has been the most aggressive tightening cycle in history basically when that starts to kind of bite in the real economies so that's going to be a difficult moment mid year when you have the savings effect fading and at the same time the rate cycle the increases in interest rates kind of feeding through the real economy. That's the test time Phil. Thank you so much Phil Debrand there stays with us of course he's from BlackRock we'll talk a lot more also about maybe the banking system coming up will bring you more for my early interview with the chief executive of one of the world's largest sovereign wealth funds he's a guitar investment authority chief executive we talked about football Elon Musk twitter and much more this is blue brick. Snow covered Alps private jets and coated white badges the world's elite will descend on Davos for the world economic forms first winter meeting since 2020 the themes on the official agenda are a bit of a mouthful so let's break it down here are the top three things that'll dominate this year's agenda number one it's all about inflation the post-COVID recovery crashed headfirst into surging CPI in 2022 supply chains stretched to breaking point and prices soared putting pressure on consumers the fed and central banks around the world responded with aggressive rate heights taking the possibility of recession in their stride but were they behind the curve number two a shifting geopolitical landscape Russia's invasion of Ukraine forced many nations to choose sides and shore up energy supplies Russia was absent from the former summer gathering in May and won't be there this year either China US relations also hit a new low over Taiwan and human rights China is looking to come back bigger than ever at its first gathering since the pandemic but will they receive a war welcome number three crypto and regulation a late addition to our top three thanks to the inclusion of sandbagman freed's FTX empire in november his arrest and extradition to the US has given regulators more ammunition in their drive to rein in the crypto industry so are we already past p crypto those themes aside the big question may be more about the event itself with criticism in recent years about its relevance can this year's Davos produce anything more than talk economics finance politics they seize bloombricks surveillance early edition of froncy lack right here in davos now we're getting a little bit of breaking news the german defense minister has requested and this is a headline that bloomberg broke just a couple of minutes ago has requested to step down are there a number of other media organizations also reporting more headlines which we'll get to in a second as soon as we make sense of them some of them are a little bit cryptic so we'll get to the bottom of it the latest is the defense minister has decided step down and this is after a series of gaps we understand and missteps now still with us here in davos is the black rock vice chair philip hildebrand philip thank you so much for staying with us we were talking a little bit before about inflation the fed maybe some of the central bank divergence that we could see ahead i mean some of this divergence is going to be very nuanced who has most difficult job right now if you look at the ECB the bank of england and we talk about the uk but also the fed in the bank of japan i think probably the bank of england because it has in a sense the worst of both worlds it has the labor market supply side constraints that that we see elsewhere and it also has the energy shock so in a sense you know europe has mostly the energy shock the us has mostly the supply side the labor market constraints that are leading to these wage pressures and tightness in the labor market the bank of england really is hit with both challenges at the same time and you can see this in the fact that they've had to do the most and the trade off the cost of bringing inflation back under control will be the highest in a sense in in the uk as a result of this consolation of being hit by both of these forces at the same time so is there anything that they can do to calibrate it because the bank of england governor is also having a pretty tough time i have to say from all sides about you know being too slow being too aggressive with interest rate hikes like how does he do well i think you have to be honest about it and that's you know this is the new world in the old world the great moderation you could get inflation under control and everything else would be fine now bring inflation back under control means you have to damage the real economy it means you cause a recession yeah and there's no way around this this is why we are in a new regime why investing has become more difficult it's much more complicated and i think the best thing the central banks can do and more or less they all do this now is to be open and acknowledge that bring an inflation back under control bring in price stability back into the game entails essentially recessions so think about it in this way in the past central banks always came to their rescue to get you out of a recession and now we have exactly the opposite the central banks have to in a sense engineer recessions or at least contracting economies in order to get inflation back under control how do you see china opening or you know opening with with i guess great difficulty we know we have also the vice president of china here so there's only one g seven prime minister president and that's the german chancellor and but we do have the vice president china i think this week is important here because remember nobody has been to china in several years there's been very limited interaction even by telephone by video so to actually meet the chinese leadership the economic leadership at least here will be a very important part of the financial industry the corporate sector from what we know from our office in china and elsewhere the the opening is happening in a very aggressive way i think that should lead to more easing of the supply side constraints so when i talked earlier about the rapid decline in inflation that's certainly going to contribute to it so there are definitely elements of very good news in terms of bringing inflation rapidly down from these very high levels at this point and china i think the reopening of china is a big part of it how the covert the health dimension of this works out i think is very difficult to judge from from afar are you expecting a lot more you know a lot less regulation what's your one question to the vice president when you meet him i think the question the main question today will be where are they under calibration between control and markets in a sense right and we've seen an extreme move towards control and the question is are we seeing some recalibration in order to get growth in order to reopen in order to help address the world supply chain problems so in a sense this is an opportunity to get in in a world that is fragmented now geopolitically we live in a very different world great fragmentation a lot of a strategic competition confrontation in some cases can we have the the chinese leadership sort of be at least partly in a cooperative stance again in the context of helping us get out of these tremendous supplies i can't say that we've seen as a result of of covid and the reopening Phil thanks so much as always for being with us philipp hildebrand there the black rock vice chair now coming up closing in on a resolution the EU and you can negotiate us move towards a fix for their dispute over trading arrangements in northern island we'll bring you that story next and this is blue brick economic finance politics this is blue brick surveillance early edition or fronstein lack of here in dabbles now let's get straight to the blue bird first word news in london is lian gyrons hi lian hi franstein nepleys authorities say at least 68 people were killed when a yeti airlines flight crashed on sunday the twin engine at r72 per turbo prop took off from katman do and came down close to its destination of pakora airport the aviation authorities said the weather was clear and there was no distress call before the crash 15 foreigners and at least a 53 nepleys were among those who were on board now china has announced almost 60 000 covid deaths over the last five week period renewing calls for more information about the latest wave of infections the w hos says it's analysing the data while urging Beijing to share more details including on sub variants several studies suggest of the number of fatalities in china could be much higher than the official count a republican lawmaker has called on the white house to turn over visit to logs to president joe biden's home in delaware after classified documents were found at the residence the move comes after the white house said on saturday that lawyers had discovered more classified material than was previously announced global news 24 hours a day on air and on bloom ber quick take powered by more than 2700 journalists and analysts and more than 100 and 20 countries and the angueroons this is bloomberg franceine lian thank you so much now we're here in davos we haven't been here in the winter for about two to three years it was pre-covid i remember one pretty poignant interview actually with the ecb president sikrisin agad when we asked for the first time about this virus called covid that was in 2020 and then since the world economy has changed so we're back in the Swiss Alps and i have to say the main attraction is the fact that the chinese delegation is back now we are going to have meetings throughout the next couple of days will it all of them no russian or chinese billionaire though are showing up all of shultz is actually the only g7 leader attending davos here under agendas the 53rd world economic forum is called the baiting the theme of cooperation of a forbunted world now what this means is that we'll look at three main things one is inflation and where the world economy is headed tomorrow i'll have a number of panels not only looking at the cost of living crisis but looking at so what the probability of recession and what kind of recession will get the other big question of course is not only on geopolitics given that russian russian oligarchs for many years were very present in davos but we'll try and understand have a better and deeper understanding about what's going on for example with Ukraine and the third question is of course about cryptocurrency giving this was the big fallout in november there is a least or much less of a presence than just in may when we had the last world economic forum with for example finance plastered and all of the prominent we don't have that at the moment but we'll try and speak to a lot of the government officials put also a lot of the bankers to see where they stand on crypto also in the last half an hour so the german defense minister christine lamborked has resigned following days of speculation over her future this is a blow to the shaltz government as it weighs crucial decisions over arming ukraine we'll have plenty more of course on that throughout the day join us here it's just a one of the world economic forum we have five more days ahead this is blueberg inflation expectations dropped to the lowest level in nearly two years but the vice chair of black rock philip hill to brand tells us the us and europe are still heading for a recession top EU and uk negotiators speak today to gauge whether a fix to the post-Brexit trading arrangements for northern Ireland is within reach and the world economic forum is back to its winter alpine setting in davos after two years of pandemic disruption don't miss our live interviews all week including more of our conversation with the chief executive officer of the couture investment authority so good morning and welcome to bloomberg surveillance i'm france in lack here in davos the couture investment authority is one of the largest sovereign wealth funds well our interview our first interview here in davos was with the qi achieve executive we had a wind raging discussion discussion where amongst other things we discussed investment in tech listen in in the whole area of of technologies we are interested i mean digitalization is a very important theme that we are taking so we are investing in a software application that would play a role in the digitalization and again france in we are a long-term investors yes so we always really take a fundamental view into the sector and the theme that we are investing any any correction in the market it doesn't mean that we need to really play the tactic unless we would like to to close a gap in our portfolio but overall we are a long-term investors and and we take a long-term review what about banks i know in the past you've been very invested in banks it feels like it's almost a juncture because of higher interest rates for a lot of the banks i see financial institution is very important pillar in the under mix of the portfolio that we have and in different markets so ideally in any exposure and any particular market we would like to have a very balanced mix and the under portfolio whether this is a technology or financial institution or real estate and for a structure we always aim to have this balance so investing in a financial institution will always be a theme for us but we're also moving to a fintech a digital financial institution was becoming very popular and and and a very important theme in our investment but this would be what you know something only mobile banking online only or a big company with big presence online it could be it could be only online banking only or an insurance for example so so it could be anything this is a very important and again it's a line up with our important theme which is digitalization is becoming very important and for the for the humankind how how much do you like football i know there's speculation on the back of the world cup yeah probably unrelated that you know the qa is also interested in buying a big stake a size ball stake in one of the big UK football see i will be i will be two general here i mean footballs the clubs and the sport is becoming very commercialized in a way especially now fans are looking into this as an experience so they would like to go and experience and entertain themselves at the same time digitalization is becoming very important for this so the business model of these and the institution let's say are becoming very commercialized and very investment friendly so you see even fans are becoming an investors and thus and sovereign will fund are becoming also investors and some of the club and you will not be surprised if we invest this but again we go into a very fundamental process and making sure that if we invest this is a very commercially driven for our future generation but would this be chosen actually on paper i mean we know that menu is maybe up for sale we know that the spurs are looking maybe to to be sold as well or have a stake is this a stake would you buy a whole club and if if they're two equal ones how do you choose it's again it's a process that we go through it's a discussion that we engage with the management we have not we have not made our mind yet but but you know this is a very commercially driven decision that we go through and again sports is becoming very important theme as well people are are engaged more in a sport and digitalization is making it more more attractive to investors as well and so do you see the premier league changing in general just because it's so much more attractive and we're seeing so many also american funds getting in absolutely it's it's league is becoming also another aspect which is also I saw a lot of investors are investing in a league sport league as well so you know this is I think a theme that you will see it very active and they're coming years as well is there anything else that we should be looking for I don't know whether you're invested in crypto or some of the big themes I mean you're going after you know things that people love so this is you know trophy assets it could be football it's technology twitter certainly everyone's talking about it is there something else that you want to be in see crypto we had you know it is the same view that we had before we are not interested in the crypto currencies but we are interested in the blockchain so any application that using a blockchain would be of our interest this is a technology that came to remain sustainability is another theme that we are interested in and this is also a theme that came to stay for a long time and we would like to play our role in the transition that the globe is is is going through and we are investing in all aspects whether this is in the technology that the play are all in the sustainability or in the infrastructure renewables the latest investment that we had for example with rwe a German company that invests in the renewable it ticked the box for ticked all the box for us it's renewable it's a management that we like it's an expansion in the US market so this is a very important theme as well that we will continue seeing us very active what's the ultimate trophy actually is there is there one thing that you know if it came up at the right price you would you would absolutely know about trying buy I don't have a name in my mind but definitely again if this is make sense commercially we will invest again being having a trophy assets it's not really a theme that we it's always about how fundamentally makes sense for the future generation you know that we we manage the fun for them well that was my interview with the chief executive of the couture investment authority months were Abraham Al Mahmouds just we'll have plenty more coming up coming up the former prime minister of Finland Alex Dubb he joins us right here in Davos we'll talk about German politics we'll talk about Ukraine and of course geopolitics as well this is Bluebrook economics finance politics this is Bluebrook surveillance early edition in front of like we're here in Davos now the German defense minister Christian Lambrecht has resigned following days of speculation over her future in a blow to chancellor all of Schultz's government so we're joined now by the former prime minister of Finland director at the European University Institute for International Governencies Alexander Stubben so thank you as always for joining us look you're an expert in geopolitics I know you've been following of course not only the fragmentation of the world but possibly the holding of the alliance in the west and what happens with Ukraine we had that breaking news about half an hour ago about the German defense minister resigning after a series of errors what does it mean going into you know still you're in the winter months you have to negotiate on Ukraine you're talking to Putin and you lose your defense minister well I think the system actually keeps afloat which basically means that you have a very strong civil service you have a very strong government that is able to give some continuation for the system I mean remember that the former defense minister germany is now the president of the European Commission and actually the finish defense minister at the moment is on paternity leave so you know the system keeps you afloat so I wouldn't be that worried about it when you look at Ukraine and everything that's happening right now can you put it in in the geopolitical context and see we worry about it less but there's still a war it's still at the really the footsteps of Europe should we worry about it more well I think it's very important that we continue to discuss it and the way in which I see that this conflict is not about Russia versus the West it is as much about the West versus the rest so we're seeing this disruption in global politics and in geopolitics a world which has essentially been dominated by the West since 1945 and certainly during the post-Cold War era and I think that's a lot of the conversation that we're going to have here in Davos is how do we get the challengers involved right and actually it's one country that can really make or break or can certainly make the difference and that's China and they're here in Davos we haven't really heard from them in the last three years because of strict lockdowns what are you expecting for the Chinese? Well Chinese presence here is actually quite limited from what I gather roughly 60 delegates around the vice premier remember when Donald Trump had been elected and then in 2017 President Xi Jinping was here sort of the big globalizer if you will what we're seeing now is actually more presence from India which is interesting to see and of course India is set to pass China in terms of population this year so there is this sort of creation of a few power centers one is the West in other words the United States of European Union one is China and then probably India somewhere in between so it's really interesting times for us international relations buffs so globalization is now you know a dirty word in many parts of the world should we call it something else? It's difficult to say I mean you know for all intensive purposes I still think that globalization has benefited of course mankind by and large has lifted millions and millions of people out of poverty but at the same time it is about equal distribution but it's also about equal representation so I think a lot of non-western countries feel that they're not really percent represented in international institutions that's why there's a lot of challenge on the multilateral system on the WTO and the World Bank and the IMF you know people want to have a say but I wouldn't be excessively worried about it this is the pendulum of global politics and I actually think we're not entering an era of de-globalization but probably a regionalization of globalization. So what does that mean in terms of defense but also the economy? It probably means that we're starting to see more protectionist activity and we saw that with the United States with a chip sack and the IRA and perhaps some retaliation coming from the European Union which I hope we won't do so I think a lot of people got afraid that the value chains used to be global then came COVID that was Donald Trump and of course now came the war in Ukraine and Russian aggression now people started to think what listen should I try to produce stuff at home how should I protect my economy it's a really careful balance I myself am a free trader so anytime we talk about strategic autonomy I'm always afraid that it's going to lead to protectionism but it is a little bit of a balance I hope that we keep things open. So I guess a lot of countries also found themselves very vulnerable because of the supply chain issues does that change to supply chain I mean if they change they take three four years so is it worth it? There are going to be some changes so the sort of Ricardo thinking that you produce where it's most beneficial is probably another one so you're going to find some industrial policy where you start protecting your sort of strategic economy if you will but it's very you know as we've seen with the United States and the IRA I think the intention is good and you know the Biden administration says that this is going to you know help the green transition but it's it's a very careful balance because if we start going tit for tax protectionism that's bad for the global economy and when it's bad for the global economy it's bad for the local economy as well. How do you say Ukraine ending so when you look at NATO and the fact that even two three years ago I always thought that maybe this was something that was I guess old and obsolete would be a way of putting it certainly it was a US view now it's back. Yeah definitely I think what happened was that you know Putin mixed strategy and tactics everything that he wanted went exactly the opposite way so he got a European Ukraine he got a United European Union he got a rejuvenated transatlantic partnership and he got a NATO with a new purpose sort of back to 1948 1949 as a repellent then to the Soviet Union and of course the icing on the cake is that my country Finland and Sweden are going to join NATO so in many ways NATO is back but NATO is back to how much does that aggravate Putin I mean when we talk about threats of nuclear wars should we take it seriously? Of course you have to take it seriously but I still think that the step in that direction is is simply too far we should also remember that Putin threatens with nuclear weapons and if we backtrack that means that he's going to do it again you see I was involved in mediating peace in the war in Georgia and he thought ah this was easy I got what I wanted I was prime minister when Putin took over Crimea he said ah this was easy I got what I wanted so now if we were to give in he would think that it's easy going I think the big thanks in all of this goes to Ukraine and the Ukrainian people they are the ones who fought back if Putin had been able to walk into Kiev in three days as many of us expected then I think the West would look much much weaker than it does right now so could we have done differently to change the course of humanity I guess is there is there a critical point where the West could have reacted and should have reacted differently to Putin? With the wisdom of hindsight a lot of us believed that interdependence and integration would lead to such relationships that war becomes impossible I mean that was the basic philosophy of the European Union right that's why we do trade we we become we didn't know that Putin was what he was so with hindsight I guess we could have been tougher after Georgia I guess we could have been tougher after Crimea but there's no use crying over spilled milk now we just have to go all the way and basically push Russia and Putin out of Ukraine and hopefully at the end of the day come with a regime change what are you most looking forward to in Davos so it's changed a lot I mean we've been covering it for a number of years less people more people different of course industries I want to show up a lot of Wall Street is showing up but doesn't necessarily want to be in a world stage yeah I mean I always look forward to this this is I think my eights or ninth time so you sort of it's a bit sort of you know globalization or international relations on steroids and I hope to I'm writing a book actually on the new age of disorder and how competition conflict and cooperation is shaping the 21st century and I want to get some new ideas for that because I firmly believe that we need to move towards a more dignified foreign policy it's not going to be a western ruled world anymore and it's a question of how we get cooperation going again Alexander as always thanks so much for joining us Alex understab there a director of the European University Institute at school of transnational governance and of course former prime minister let's get straight to your Bloomberg business flash here's Zilian Garens hi Leanne hi Franstein any else is to buy assets being sold by Switzerland's seeker to appease antitrust regulators after the takeover of German rival NBCC group it's also say the purchase by any of values assets at $750 million seeker's admixture business makes substances that can be added to concrete to modify its properties less than 400 million pounds of offices were bought in sold in London in the final months of last year that's an 88% drop from the third quarter and a 20 year low the deal making freeze gamers former prime minister Liz trusses proposals for unfunded tax cuts did spook the markets now credit sweeces reported to be gearing up to cut more than 10,000% of its European investment bankers this year according to the financial times the reductions at the Swiss Allender comes after an earlier announcement of 9,000 job losses by 2025 credit sweeces expected to report its second consecutive annual loss and that is next month and Apple's manufacturing partners Foxconn and Pegatron have included a southeast Asia in their expansion plans for this year both companies are adding more production capacity outside of China after they encountered serious covid related disruptions and that was last year violent protests at Foxconn's plan forced Apple to cut its forecast and output was also halted and that's your Bloomberg business flash Francine lian thank you so much coming up Germany's defense minister seps down will head to Berlin for the latest developments on that and this is Bloomberg Tuesday a Bloomberg exclusive live from Berlin where German Chancellor Olaf Scholz sits down with Bloomberg editor-in-chief John McElfweight a wide-ranging conversation only on Bloomberg your global business authority economics finance politics this is Bloomberg surveillance early edition I'm from St. Lacway here in Davos I don't know whether you can hear the tuba I'll make you listen to it this is what happens in Davos sometimes you get centurated actually by someone this is not official music this is just possibly someone who lives in the village who wanted to welcome the participants as they come into the congress center we're day one we'll have five more days of this now the German defense minister Christine Lambrich has resigned this morning after days of speculation from our all of this we're joined by Arne delf's our Bloomberg government reporter who's live from Berlin so Arne this has been going for a couple of days why has she finally resigned yes hi hi there she had really bad coverage media coverage the last few months actually she made some gaff she was never really seen as connecting to the army so in a way many people are especially in the army itself are really if the that she's finally resigning okay what does this mean for a chance for all of shouts well it doesn't look very good in this I must say I mean he for for months he has basically stuck to her he didn't want to drop her now suddenly comes a decision and people wonder why now because it's a really bad timing we have the rummstein meeting coming up actually US defense minister Austin is coming over here on Thursday and nobody knows actually whom he will meet it's an odd situation it is an odd situation are did you have any names of who could step up and become defense minister I mean I can't it can't take very long to point someone no no it must go quick and there are names indeed there is like the sbd cold leader party leader last klingbal who's a strong candidate the problem is there's kind of this gender balance in the cabinet which has to be kept so it maybe it needs to be a woman again then if i google she's a military expert from the social democratic party there are a number of names circling around but I would I would opt for if i google right now i must say yeah all right who's an experience sorry who's an experience military expert aren't I thank you aren't adults they're Bloomberg government reporter now we'll continue our coverage out of Davos stay tuned for interview the Saudi minister of planning and economy his faizal al-Brahim now Bloomberg surveillance early edition continues in the next hour with matmiller and kaley lines in new york and an edwards in london and this is blueberg hello\n",
      " Good morning everyone and welcome to Bloomberg Surveillance Early Edition and Fronting LackWat Live in Davos.\n",
      "\n",
      " Now here's what's coming up on today's program.\n",
      "\n",
      " Inflation expectations dropped to the lowest levels in nearly two years.\n",
      "\n",
      " The vice-chair of BlackRock, Phil DeBran, tells us the US and Europe are still heading for recession.\n",
      "\n",
      " Top E when UK negotiators speak today to gauge whether a fix to the post-Brexit trading arrangements for Northern Ireland is within reach and the world economic forum is back to its winter alpine setting here in Davos after two years of pandemic disruption so don't miss our live interviews all week including more from our interview with the chief executive of the Qatar Investment Authority.\n",
      "\n",
      " So coming up this hour we'll have not only the QIA but we'll get you interviews with top bankers and just a moment we'll also speak to BlackRock vice-chair, Phillip Hildebrand.\n",
      "\n",
      " Good morning to you friend it is all about currencies for us who are in front of a Bloomberg terminal in a warm office not out there in the Alps but yes we have seen the yen give back the gains that we saw this morning that's a third asset I have on that board for you the dollar is stronger but before it was all about JGB's breaching that half a percent ceiling that the BOJ had set will they change that again come Wednesday but elsewhere there is some decent risk appetite again it is starting to fade we had the best start to the year for European equities in on record really the idea that that gas is lower China's reopening so we are having a reassessment of the global economy but Bitcoin Francine that has fallen back below 21,000 it was up more than 1 percent meanwhile aren't or tumbling in today's session with China warning about false information in the market saying they're going to crack down more that has then to sentiment Francine.\n",
      "\n",
      " Thank you so much Phil Debrand there stays with us of course he's from BlackRock we'll talk a lot more also about maybe the banking system coming up will bring you more for my early interview with the chief executive of one of the world's largest sovereign wealth funds he's a guitar investment authority chief executive we talked about football Elon Musk twitter and much more this is blue brick.\n",
      "\n",
      " Snow covered Alps private jets and coated white badges the world's elite will descend on Davos for the world economic forms first winter meeting since 2020 the themes on the official agenda are a bit of a mouthful so let's break it down here are the top three things that'll dominate this year's agenda number one it's all about inflation the post-COVID recovery crashed headfirst into surging CPI in 2022 supply chains stretched to breaking point and prices soared putting pressure on consumers the fed and central banks around the world responded with aggressive rate heights taking the possibility of recession in their stride but were they behind the curve number two a shifting geopolitical landscape Russia's invasion of Ukraine forced many nations to choose sides and shore up energy supplies Russia was absent from the former summer gathering in May and won't be there this year either China US relations also hit a new low over Taiwan and human rights China is looking to come back bigger than ever at its first gathering since the pandemic but will they receive a war welcome number three crypto and regulation a late addition to our top three thanks to the inclusion of sandbagman freed's FTX empire in november his arrest and extradition to the US has given regulators more ammunition in their drive to rein in the crypto industry so are we already past p crypto those themes aside the big question may be more about the event itself with criticism in recent years about its relevance can this year's Davos produce anything more than talk economics finance politics they seize bloombricks surveillance early edition of froncy lack right here in davos now we're getting a little bit of breaking news the german defense minister has requested and this is a headline that bloomberg broke just a couple of minutes ago has requested to step down are there a number of other media organizations also reporting more headlines which we'll get to in a second as soon as we make sense of them some of them are a little bit cryptic so we'll get to the bottom of it the latest is the defense minister has decided step down and this is after a series of gaps we understand and missteps now still with us here in davos is the black rock vice chair philip hildebrand philip thank you so much for staying with us we were talking a little bit before about inflation the fed maybe some of the central bank divergence that we could see ahead i mean some of this divergence is going to be very nuanced who has most difficult job right now if you look at the ECB the bank of england and we talk about the uk but also the fed in the bank of japan i think probably the bank of england because it has in a sense the worst of both worlds it has the labor market supply side constraints that that we see elsewhere and it also has the energy shock so in a sense you know europe has mostly the energy shock the us has mostly the supply side the labor market constraints that are leading to these wage pressures and tightness in the labor market the bank of england really is hit with both challenges at the same time and you can see this in the fact that they've had to do the most and the trade off the cost of bringing inflation back under control will be the highest in a sense in in the uk as a result of this consolation of being hit by both of these forces at the same time so is there anything that they can do to calibrate it because the bank of england governor is also having a pretty tough time i have to say from all sides about you know being too slow being too aggressive with interest rate hikes like how does he do well i think you have to be honest about it and that's you know this is the new world in the old world the great moderation you could get inflation under control and everything else would be fine now bring inflation back under control means you have to damage the real economy it means you cause a recession yeah and there's no way around this this is why we are in a new regime why investing has become more difficult it's much more complicated and i think the best thing the central banks can do and more or less they all do this now is to be open and acknowledge that bring an inflation back under control bring in price stability back into the game entails essentially recessions so think about it in this way in the past central banks always came to their rescue to get you out of a recession and now we have exactly the opposite the central banks have to in a sense engineer recessions or at least contracting economies in order to get inflation back under control how do you see china opening or you know opening with with i guess great difficulty we know we have also the vice president of china here so there's only one g seven prime minister president and that's the german chancellor and but we do have the vice president china i think this week is important here because remember nobody has been to china in several years there's been very limited interaction even by telephone by video so to actually meet the chinese leadership the economic leadership at least here will be a very important part of the financial industry the corporate sector from what we know from our office in china and elsewhere the the opening is happening in a very aggressive way i think that should lead to more easing of the supply side constraints so when i talked earlier about the rapid decline in inflation that's certainly going to contribute to it so there are definitely elements of very good news in terms of bringing inflation rapidly down from these very high levels at this point and china i think the reopening of china is a big part of it how the covert the health dimension of this works out i think is very difficult to judge from from afar are you expecting a lot more you know a lot less regulation what's your one question to the vice president when you meet him i think the question the main question today will be where are they under calibration between control and markets in a sense right and we've seen an extreme move towards control and the question is are we seeing some recalibration in order to get growth in order to reopen in order to help address the world supply chain problems so in a sense this is an opportunity to get in in a world that is fragmented now geopolitically we live in a very different world great fragmentation a lot of a strategic competition confrontation in some cases can we have the the chinese leadership sort of be at least partly in a cooperative stance again in the context of helping us get out of these tremendous supplies i can't say that we've seen as a result of of covid and the reopening Phil thanks so much as always for being with us philipp hildebrand there the black rock vice chair now coming up closing in on a resolution the EU and you can negotiate us move towards a fix for their dispute over trading arrangements in northern island we'll bring you that story next and this is blue brick economic finance politics this is blue brick surveillance early edition or fronstein lack of here in dabbles now let's get straight to the blue bird first word news in london is lian gyrons hi lian hi franstein nepleys authorities say at least 68 people were killed when a yeti airlines flight crashed on sunday the twin engine at r72 per turbo prop took off from katman do and came down close to its destination of pakora airport the aviation authorities said the weather was clear and there was no distress call before the crash 15 foreigners and at least a 53 nepleys were among those who were on board now china has announced almost 60 000 covid deaths over the last five week period renewing calls for more information about the latest wave of infections the w hos says it's analysing the data while urging Beijing to share more details including on sub variants several studies suggest of the number of fatalities in china could be much higher than the official count a republican lawmaker has called on the white house to turn over visit to logs to president joe biden's home in delaware after classified documents were found at the residence the move comes after the white house said on saturday that lawyers had discovered more classified material than was previously announced global news 24 hours a day on air and on bloom ber quick take powered by more than 2700 journalists and analysts and more than 100 and 20 countries and the angueroons this is bloomberg franceine lian thank you so much now we're here in davos we haven't been here in the winter for about two to three years it was pre-covid i remember one pretty poignant interview actually with the ecb president sikrisin agad when we asked for the first time about this virus called covid that was in 2020 and then since the world economy has changed so we're back in the Swiss Alps and i have to say the main attraction is the fact that the chinese delegation is back now we are going to have meetings throughout the next couple of days will it all of them no russian or chinese billionaire though are showing up all of shultz is actually the only g7 leader attending davos here under agendas the 53rd world economic forum is called the baiting the theme of cooperation of a forbunted world now what this means is that we'll look at three main things one is inflation and where the world economy is headed tomorrow i'll have a number of panels not only looking at the cost of living crisis but looking at so what the probability of recession and what kind of recession will get the other big question of course is not only on geopolitics given that russian russian oligarchs for many years were very present in davos but we'll try and understand have a better and deeper understanding about what's going on for example with Ukraine and the third question is of course about cryptocurrency giving this was the big fallout in november there is a least or much less of a presence than just in may when we had the last world economic forum with for example finance plastered and all of the prominent we don't have that at the moment but we'll try and speak to a lot of the government officials put also a lot of the bankers to see where they stand on crypto also in the last half an hour so the german defense minister christine lamborked has resigned following days of speculation over her future this is a blow to the shaltz government as it weighs crucial decisions over arming ukraine we'll have plenty more of course on that throughout the day join us here it's just a one of the world economic forum we have five more days ahead this is blueberg inflation expectations dropped to the lowest level in nearly two years but the vice chair of black rock philip hill to brand tells us the us and europe are still heading for a recession top EU and uk negotiators speak today to gauge whether a fix to the post-Brexit trading arrangements for northern Ireland is within reach and the world economic forum is back to its winter alpine setting in davos after two years of pandemic disruption don't miss our live interviews all week including more of our conversation with the chief executive officer of the couture investment authority so good morning and welcome to bloomberg surveillance i'm france in lack here in davos the couture investment authority is one of the largest sovereign wealth funds well our interview our first interview here in davos was with the qi achieve executive we had a wind raging discussion discussion where amongst other things we discussed investment in tech listen in in the whole area of of technologies we are interested i mean digitalization is a very important theme that we are taking so we are investing in a software application that would play a role in the digitalization and again france in we are a long-term investors yes so we always really take a fundamental view into the sector and the theme that we are investing any any correction in the market it doesn't mean that we need to really play the tactic unless we would like to to close a gap in our portfolio but overall we are a long-term investors and and we take a long-term review what about banks i know in the past you've been very invested in banks it feels like it's almost a juncture because of higher interest rates for a lot of the banks i see financial institution is very important pillar in the under mix of the portfolio that we have and in different markets so ideally in any exposure and any particular market we would like to have a very balanced mix and the under portfolio whether this is a technology or financial institution or real estate and for a structure we always aim to have this balance so investing in a financial institution will always be a theme for us but we're also moving to a fintech a digital financial institution was becoming very popular and and and a very important theme in our investment but this would be what you know something only mobile banking online only or a big company with big presence online it could be it could be only online banking only or an insurance for example so so it could be anything this is a very important and again it's a line up with our important theme which is digitalization is becoming very important and for the for the humankind how how much do you like football i know there's speculation on the back of the world cup yeah probably unrelated that you know the qa is also interested in buying a big stake a size ball stake in one of the big UK football see i will be i will be two general here i mean footballs the clubs and the sport is becoming very commercialized in a way especially now fans are looking into this as an experience so they would like to go and experience and entertain themselves at the same time digitalization is becoming very important for this so the business model of these and the institution let's say are becoming very commercialized and very investment friendly so you see even fans are becoming an investors and thus and sovereign will fund are becoming also investors and some of the club and you will not be surprised if we invest this but again we go into a very fundamental process and making sure that if we invest this is a very commercially driven for our future generation but would this be chosen actually on paper i mean we know that menu is maybe up for sale we know that the spurs are looking maybe to to be sold as well or have a stake is this a stake would you buy a whole club and if if they're two equal ones how do you choose it's again it's a process that we go through it's a discussion that we engage with the management we have not we have not made our mind yet but but you know this is a very commercially driven decision that we go through and again sports is becoming very important theme as well people are are engaged more in a sport and digitalization is making it more more attractive to investors as well and so do you see the premier league changing in general just because it's so much more attractive and we're seeing so many also american funds getting in absolutely it's it's league is becoming also another aspect which is also I saw a lot of investors are investing in a league sport league as well so you know this is I think a theme that you will see it very active and they're coming years as well is there anything else that we should be looking for I don't know whether you're invested in crypto or some of the big themes I mean you're going after you know things that people love so this is you know trophy assets it could be football it's technology twitter certainly everyone's talking about it is there something else that you want to be in see crypto we had you know it is the same view that we had before we are not interested in the crypto currencies but we are interested in the blockchain so any application that using a blockchain would be of our interest this is a technology that came to remain sustainability is another theme that we are interested in and this is also a theme that came to stay for a long time and we would like to play our role in the transition that the globe is is is going through and we are investing in all aspects whether this is in the technology that the play are all in the sustainability or in the infrastructure renewables the latest investment that we had for example with rwe a German company that invests in the renewable it ticked the box for ticked all the box for us it's renewable it's a management that we like it's an expansion in the US market so this is a very important theme as well that we will continue seeing us very active what's the ultimate trophy actually is there is there one thing that you know if it came up at the right price you would you would absolutely know about trying buy I don't have a name in my mind but definitely again if this is make sense commercially we will invest again being having a trophy assets it's not really a theme that we it's always about how fundamentally makes sense for the future generation you know that we we manage the fun for them well that was my interview with the chief executive of the couture investment authority months were Abraham Al Mahmouds just we'll have plenty more coming up coming up the former prime minister of Finland Alex Dubb he joins us right here in Davos we'll talk about German politics we'll talk about Ukraine and of course geopolitics as well this is Bluebrook economics finance politics this is Bluebrook surveillance early edition in front of like we're here in Davos now the German defense minister Christian Lambrecht has resigned following days of speculation over her future in a blow to chancellor all of Schultz's government so we're joined now by the former prime minister of Finland director at the European University Institute for International Governencies Alexander Stubben so thank you as always for joining us look you're an expert in geopolitics I know you've been following of course not only the fragmentation of the world but possibly the holding of the alliance in the west and what happens with Ukraine we had that breaking news about half an hour ago about the German defense minister resigning after a series of errors what does it mean going into you know still you're in the winter months you have to negotiate on Ukraine you're talking to Putin and you lose your defense minister well I think the system actually keeps afloat which basically means that you have a very strong civil service you have a very strong government that is able to give some continuation for the system I mean remember that the former defense minister germany is now the president of the European Commission and actually the finish defense minister at the moment is on paternity leave so you know the system keeps you afloat so I wouldn't be that worried about it when you look at Ukraine and everything that's happening right now can you put it in in the geopolitical context and see we worry about it less but there's still a war it's still at the really the footsteps of Europe should we worry about it more well I think it's very important that we continue to discuss it and the way in which I see that this conflict is not about Russia versus the West it is as much about the West versus the rest so we're seeing this disruption in global politics and in geopolitics a world which has essentially been dominated by the West since 1945 and certainly during the post-Cold War era and I think that's a lot of the conversation that we're going to have here in Davos is how do we get the challengers involved right and actually it's one country that can really make or break or can certainly make the difference and that's China and they're here in Davos we haven't really heard from them in the last three years because of strict lockdowns what are you expecting for the Chinese? Well Chinese presence here is actually quite limited from what I gather roughly 60 delegates around the vice premier remember when Donald Trump had been elected and then in 2017 President Xi Jinping was here sort of the big globalizer if you will what we're seeing now is actually more presence from India which is interesting to see and of course India is set to pass China in terms of population this year so there is this sort of creation of a few power centers one is the West in other words the United States of European Union one is China and then probably India somewhere in between so it's really interesting times for us international relations buffs so globalization is now you know a dirty word in many parts of the world should we call it something else? It's difficult to say I mean you know for all intensive purposes I still think that globalization has benefited of course mankind by and large has lifted millions and millions of people out of poverty but at the same time it is about equal distribution but it's also about equal representation so I think a lot of non-western countries feel that they're not really percent represented in international institutions that's why there's a lot of challenge on the multilateral system on the WTO and the World Bank and the IMF you know people want to have a say but I wouldn't be excessively worried about it this is the pendulum of global politics and I actually think we're not entering an era of de-globalization but probably a regionalization of globalization.\n",
      "\n",
      " Lacway here in Davos I don't know whether you can hear the tuba I'll make you listen to it this is what happens in Davos sometimes you get centurated actually by someone this is not official music this is just possibly someone who lives in the village who wanted to welcome the participants as they come into the congress center we're day one we'll have five more days of this now the German defense minister Christine Lambrich has resigned this morning after days of speculation from our all of this we're joined by Arne delf's our Bloomberg government reporter who's live from Berlin so Arne this has been going for a couple of days why has she finally resigned yes hi hi there she had really bad coverage media coverage the last few months actually she made some gaff she was never really seen as connecting to the army so in a way many people are especially in the army itself are really if the that she's finally resigning okay what does this mean for a chance for all of shouts well it doesn't look very good in this I must say I mean he for for months he has basically stuck to her he didn't want to drop her now suddenly comes a decision and people wonder why now because it's a really bad timing we have the rummstein meeting coming up actually US defense minister Austin is coming over here on Thursday and nobody knows actually whom he will meet it's an odd situation it is an odd situation are did you have any names of who could step up and become defense minister I mean I can't it can't take very long to point someone no no it must go quick and there are names indeed there is like the sbd cold leader party leader last klingbal who's a strong candidate the problem is there's kind of this gender balance in the cabinet which has to be kept so it maybe it needs to be a woman again then if i google she's a military expert from the social democratic party there are a number of names circling around but I would I would opt for if i google right now i must say yeah all right who's an experience sorry who's an experience military expert aren't I thank you aren't adults they're Bloomberg government reporter now we'll continue our coverage out of Davos stay tuned for interview the Saudi minister of planning and economy his faizal al-Brahim now Bloomberg surveillance early edition continues in the next hour with matmiller and kaley lines in new york and an edwards in london and this is blueberg hello.\n",
      "\n",
      " Your one is big investors in Twitter and I feel like in the last eight months it's gone up It's gone down and we talk about Twitter and Elon Musk every day. Yes Where are we on that you always ask this question And as you know, we are we are an investor someone you know consortium of investors We are a financial investors. We We engage with the with the management with Elon in terms of the the plan that he has for For the company and we believe on this and we we trust his leadership in terms of Turning around the company. So We are into this and we are committed to the plan that we have You know made to the management. Have you asked him to tweet less in the last eight months? There there was so much volatility do you get involved in those in those calls? Not really. I mean we do not early and world to that extent in terms of Again, he has he has Our trust and and we are sure that he would He would manage it very professional. Is there another technology company that looks attractive at the moment We've seen a lot of job losses a lot of job cuts a lot a lot of cost savings when you look at Asia I know you can't really get involved in soft bank But is there something of that sort that you'd be looking at? Absolutely. I mean in the whole area of Of technologies we are interested. I mean digitalization is A very important theme that we are taking So we are investing in a software application That would play our role on the digitalization and again, Francine. We are a long-term investors So we always really take a fundamental view into the sector and the theme that we are investing Any any correction in the market. It doesn't mean that we need to really play the tactic Unless we would like to to close a gap in our portfolio, but overall we are a long-term investors and and we take a long-term view\n",
      " Your one is big investors in Twitter and I feel like in the last eight months it's gone up It's gone down and we talk about Twitter and Elon Musk every day.\n",
      "\n",
      " Yes Where are we on that you always ask this question And as you know, we are we are an investor someone you know consortium of investors We are a financial investors.\n",
      "\n",
      " We We engage with the with the management with Elon in terms of the the plan that he has for For the company and we believe on this and we we trust his leadership in terms of Turning around the company.\n",
      "\n",
      " So We are into this and we are committed to the plan that we have You know made to the management.\n",
      "\n",
      " Have you asked him to tweet less in the last eight months? There there was so much volatility do you get involved in those in those calls? Not really.\n",
      "\n",
      " I mean we do not early and world to that extent in terms of Again, he has he has Our trust and and we are sure that he would He would manage it very professional.\n",
      "\n",
      " I mean in the whole area of Of technologies we are interested.\n",
      "\n",
      " I mean digitalization is A very important theme that we are taking So we are investing in a software application That would play our role on the digitalization and again, Francine.\n",
      "\n",
      " We are a long-term investors So we always really take a fundamental view into the sector and the theme that we are investing Any any correction in the market.\n",
      "\n",
      " It doesn't mean that we need to really play the tactic Unless we would like to to close a gap in our portfolio, but overall we are a long-term investors and and we take a long-term view.\n",
      "\n",
      " Do you think inflation has peaked? Oh, very much so. I think inflation is going to drop very, very quickly. In fact, I believe many of us will be surprised how quickly it will fall. The problem is it will fall very quickly. So the 9 to 4 will be the easy part, and then it's going to get very difficult to get inflation back to price stability. But at the moment, I think the initial phase will be a very rapid decline in inflation. So what does the mean for central banks, Philip? And you lay this out beautifully actually in your world outlook. If you're a central bank, if you're like the ECB, or even if you're the Fed, do you have to be much more careful in how you manage this from now until the summer? I think the central banks are going to continue on their tightening path. They're going to be very careful, very focused on not losing the long term inflation expectation anchor. And so I think we're going to see, you know, I don't see any chances frankly of easing this year. I think the market has that wrong. So they're going to make sure that we can really not just get from 9 to 4, but also limit any kind of risks that inflation expectations become unanchored. And because all this is driven by labor market constraints principally, it's still a supply side story. It's going to be very difficult to get inflation kind of below 4%, let alone below 3%. So we're in the easy phase in a sense now of this tightening cycle. But is there a problem with that markets and understand that? So we have, for example, Fed officials saying, look, don't expect a Fed pivot any time soon, but the markets keep on testing it. That's right. And, you know, I think this notion that there could be easing this year seems to be, to me, to be far too optimistic, because if you're the central bank, you're going to want to make sure that you can get this done, that you don't risk researching suddenly of inflation expectations further down the road. So I think we're going to see it best some sort of pause, but not quite yet. And the market may need some readjusting relative to these expectations that we could be seeing some easing. And this is what we call the new, it's a new regime. The great moderation is over. You know, this notion that when the economy struggles central banks will ease, that was true in the past. I don't think it's going to be true this time.\n",
      " Do you think inflation has peaked? Oh, very much so.\n",
      "\n",
      " I think inflation is going to drop very, very quickly.\n",
      "\n",
      " In fact, I believe many of us will be surprised how quickly it will fall.\n",
      "\n",
      " The problem is it will fall very quickly.\n",
      "\n",
      " So the 9 to 4 will be the easy part, and then it's going to get very difficult to get inflation back to price stability.\n",
      "\n",
      " But at the moment, I think the initial phase will be a very rapid decline in inflation.\n",
      "\n",
      " So what does the mean for central banks, Philip? And you lay this out beautifully actually in your world outlook.\n",
      "\n",
      " If you're a central bank, if you're like the ECB, or even if you're the Fed, do you have to be much more careful in how you manage this from now until the summer? I think the central banks are going to continue on their tightening path.\n",
      "\n",
      " It's going to be very difficult to get inflation kind of below 4%, let alone below 3%.\n",
      "\n",
      " So we're in the easy phase in a sense now of this tightening cycle.\n",
      "\n",
      " Snow covered Alps, private jets and coveted white badges. The world's elite will descend on Davos for the World Economic Forum's first winter meeting since 2020. The themes on the official agenda are a bit of a mouthful, so let's break it down. Here are the top three things that will dominate this year's agenda. Number one, it's all about inflation. The post-COVID recovery crashed headfirst into surging CPI in 2022. Supply chains stretched to breaking points and prices soared, putting pressure on consumers. The Fed and central banks around the world responded with aggressive rate heights, taking the possibility of recession in their stride, but were they behind the curve. Number two, a shifting geopolitical landscape. Russia's invasion of Ukraine forced many nations to choose sides and sure up energy supplies. Russia was absent from the former summer gathering in May and won't be there this year either. China-US relations also hit a new low over Taiwan and human rights. China is looking to come back bigger than ever at its first gathering since the pandemic, but will they receive a war welcome? Number three, crypto and regulation. A late addition to our top three thanks to the inclusion of Sandbagman Fried's FTX Empire in November. As a rest and extradition to the US has given regulators more ammunition in their drive to rein in the crypto industry. So are we already past peak crypto? Those themes aside, the big question may be more about the event itself. With criticism in recent years about its relevance, can this year's Davos produce anything more than talk?\n",
      " Snow covered Alps, private jets and coveted white badges.\n",
      "\n",
      " The world's elite will descend on Davos for the World Economic Forum's first winter meeting since 2020.\n",
      "\n",
      " The themes on the official agenda are a bit of a mouthful, so let's break it down.\n",
      "\n",
      " Here are the top three things that will dominate this year's agenda.\n",
      "\n",
      " Number one, it's all about inflation.\n",
      "\n",
      " The post-COVID recovery crashed headfirst into surging CPI in 2022.\n",
      "\n",
      " Supply chains stretched to breaking points and prices soared, putting pressure on consumers.\n",
      "\n",
      " The Fed and central banks around the world responded with aggressive rate heights, taking the possibility of recession in their stride, but were they behind the curve.\n",
      "\n",
      " Number two, a shifting geopolitical landscape.\n",
      "\n",
      " China is looking to come back bigger than ever at its first gathering since the pandemic, but will they receive a war welcome? Number three, crypto and regulation.\n",
      "\n",
      " You know, in terms of revenue, maybe tell us a bit more how last year was, how many watches did you sell, and what are the metrics you're looking like for next year? So we are selling roughly 250,000 watches a year. At Brightming, the market was actually very good for us. The US was growing very strongly last year, also Europe. Obviously we came out of COVID much earlier than some Asian markets. And yeah, no, it was very positive. Are you a billion dollar company now? Not yet. You're very close. We're very close. But I guess we'll match this in the next 12 months. Well, what's the outlook these next 12 months compared to last year? What's your initial gut feel because of this reopening? But also slow down somewhere else too, in other parts of the world. Obviously China is very good news. As you know, China represents 30% of the luxury market. Greater China even more. So this reopening is obviously very good news. We don't know how much the Chinese will consume locally and how the tourist business will develop. The things the tourist business, which is very important for some countries like Switzerland in particular, will take some more time. But local consumption because of the savings. Obviously, there must be huge savings now since Chinese consumers haven't consumed that much of last years. Must be huge. And we've seen that last year, also in Europe, on the United States. How much I would take, catch up consumption there was. Do you see China taking back that position as the top export destination for Swiss watches taken from the US? And what the reopening do that, you think? I think it will take a little bit of time. We have to, again, as we have to see what the local consumption will be. But we're very confident and quite bullish also in terms of investments. Without naming names of your peers, are you prepared as far as supply is concerned? Because you probably know, of course, you walk into certain shops. All for display. You asked to buy it. It's not where to be found. Yeah, well, the crazy thing is we are not, you know, in electronic industry. So we're not talking about chips like for the current industry. In our industry, it's a very old industry. It's a 250 years old industry. It's really about capacities. It's really purely simple capacity. And the watch market has been growing so much that our capacities are limited. The capacities of our suppliers are limited. And we all, at least the very successful brands, are just suffering from capacity issue, from industrial capacity issues, but not from a supply chain temporary. Yeah. Yeah. What sort of trends are you looking at here right now? Do you think that, you know, the market is going to move beyond just, you know, steel sports watches or chronographs? That's right. The like, or dresser watches, and what about for females, sort of consumers? The Chinese market is as developed now as in other countries in the world. So the culture, the watch culture, or the luxury culture is there. We have invested as an industry so much money that the knowledge about our products is there. Of course, little less in third years and fourth year cities, but even there. And then you have all this overspill of social media from abroad, which impacts also Chinese consumption. So I don't see that much of a lack of culture and understanding. So what my point is, the market became global. So whoever buys in China or in Hong Kong buys the same product in Paris or in London. Precisely. So we are really in a global market and to respond to a question on females, this roughly, of course, because of the population's female market is roughly 50%. And it's also developing strongly, but it's the same trend all over the world. I mean, you've been in this sector for some time. And I'm wondering how the manner at which brands like yourself market and communicate to the Chinese consumer. I'm sure that's strategies also evolved throughout the years. And I'm wondering at this point in time, how are you talking to your consumers? Do you even have to market yourself? Is another question, I guess. No, of course. Of course, we have to market ourselves. And we need to find the right mix between, I would say, especially when we talk about celebrities or testimonials. Chinese and Western celebrities, as you know, we work with Brad Pitt with many international celebrities. But we need also to invest in Chinese celebrities. And then the big thing is social media. Today, up to 70% of the decision making by consumers is done through social media. So we have to invest much more in social media than in print advertising, for instance. And we also invest a lot in outdoor advertising. Are you in acquisition mode right now, especially after this resuffling of ownership? We... A difficult question. Being an independent company, I think, is somehow reassuring also for the retailers. For wholesale partners with two great private equity partners, CBC and partners group, who now took the majority 51% of our business just on the 23rd of December. And we obviously, Brighting has a huge potential to grow in particular in China. We have been one of the fastest growing companies of the last couple of years and will continue to be so. And then, you know, we'll see what destiny will bring us. Well, what... I was going to ask you what your growth metrics are. Because you mentioned something about, you know, your constraint to some extent by capacity. And wondering, is that something that you're urgently looking to address? Or is that almost also a blessing, really, for you to be able to do that sustainably? And now that you have, of course, this change of ownership, how much pressure are you getting to deliver great growth as well? No, we have... we have very good investors to understand our business, they understand the constraints. We grow not only in volume, we grow only also in value. So our average price didn't increase over the last couple of years. We have more in-house movements, more products for the female market. So it's both a growth in volume, but also a growth in value, more complications, et cetera. So these are the metrics we're very profitable company. It's important for private equity that we finance ourselves with the cash flow we generate. And this is also the way forward.\n",
      " You know, in terms of revenue, maybe tell us a bit more how last year was, how many watches did you sell, and what are the metrics you're looking like for next year? So we are selling roughly 250,000 watches a year.\n",
      "\n",
      " At Brightming, the market was actually very good for us.\n",
      "\n",
      " The US was growing very strongly last year, also Europe.\n",
      "\n",
      " Obviously we came out of COVID much earlier than some Asian markets.\n",
      "\n",
      " And yeah, no, it was very positive.\n",
      "\n",
      " Are you a billion dollar company now? Not yet.\n",
      "\n",
      " But I guess we'll match this in the next 12 months.\n",
      "\n",
      " Well, what's the outlook these next 12 months compared to last year? What's your initial gut feel because of this reopening? But also slow down somewhere else too, in other parts of the world.\n",
      "\n",
      " So we are really in a global market and to respond to a question on females, this roughly, of course, because of the population's female market is roughly 50%.\n",
      "\n",
      " So these are the metrics we're very profitable company.\n",
      "\n",
      " So you've created an AI-driven system that raises cattle for Japanese wagu. Tell us how that works. The system called U-motion monitors cattle sleeping, eating, and rumination patterns 24 hours a day, using sensors attached to the neck of each cow. You were working at Panasonic. What made you leave and start disin this? They took it today. I had opportunities to talk to farmers in my previous job, and I felt getting these data in a speedy manner was crucial for farmers going forward. So I thought it's best if I start the business on my own. Through U-motion, your technology of this AI-driven device, what kinds of problems are you really solving here? U-motion can monitor the condition of the cattle 24 hours a day. So for example, we can tell which cattle are nearly in heat. We can monitor small changes on a daily basis, so that farmers can better manage the health of their cattle. They can even prevent disease by using the system. It is possible to improve wagu quality using our technology. We accumulate all the necessary data to make the meats better and leaner. I think this technology will help more foreigners enjoy wagu. How has demand been from the farmers for U-motion? Many farmers already used this U-motion system, and they are very happy about it. As their efficiency and productivity have improved, our system has top market share in Japan at the moment, and I believe we have been very well received by the farmers. I expect demand will increase even further. Do you have any numbers for those sales targets and goals going forward? Currently, 80,000 sensors have been installed. We aim to cover about half the beef cattle in Japan. That's about 1 million in the near future. What do you hope to change when it comes to Japan's wagu farming? I want to improve production of wagu in Japan, even further, with our AI-driven sensors. Our technology can help those farmers who typically suffer from a lack of labor in Japan. Do you have any plans for an IPO? Yes, it's in our plans. We'll think about going public in the near future. What is the one thing Japan needs most right now? As with this new technology I've launched, I think it's important to challenge something new and boost our presence in the global market. Japan has further potential to be competitive in global markets.\n",
      " So you've created an AI-driven system that raises cattle for Japanese wagu.\n",
      "\n",
      " Tell us how that works.\n",
      "\n",
      " The system called U-motion monitors cattle sleeping, eating, and rumination patterns 24 hours a day, using sensors attached to the neck of each cow.\n",
      "\n",
      " You were working at Panasonic.\n",
      "\n",
      " What made you leave and start disin this? They took it today.\n",
      "\n",
      " I had opportunities to talk to farmers in my previous job, and I felt getting these data in a speedy manner was crucial for farmers going forward.\n",
      "\n",
      " So I thought it's best if I start the business on my own.\n",
      "\n",
      " Through U-motion, your technology of this AI-driven device, what kinds of problems are you really solving here? U-motion can monitor the condition of the cattle 24 hours a day.\n",
      "\n",
      " So for example, we can tell which cattle are nearly in heat.\n",
      "\n",
      " We can monitor small changes on a daily basis, so that farmers can better manage the health of their cattle.\n",
      "\n",
      " So you're saying stage one of this whole reopening play pretty much priced in what does stage two look like to you? Well, I think stage two we have to be a little bit cautious because from November to now It's been such a big rally, you know in the equity markets the FX markets the credit market You know the especially offshore like the Hang saying China enterprise index up 50% since November But the onshore equity market CSI 300 only up about 15% only 15% I think this shows some of the flows as well as well as a composition of the stock indices So a lot of the fast money hedge funds in Hong Kong have covered their shorts in Hong Kong actually and Money fluid and quickly to Hong Kong and it drove up the offshore indices But I think a lot of the big global real money asset managers who reduced their allocations to China Let's say a second half of last year they haven't come back in yet So they come back in there could be another leg up actually later in the year So we really see that also the composition offshore. It's been mostly a tech story You know big names like Tencent or up 100% in November But there's still half where they work two years ago Whereas onshore a lot more will be industrials consumers financials real economy stocks So that will take a bit of time to recover I think but we'll see that for the rest of the year Have you started seeing inflows picking up northbound? Of course, yes, in the China have actually so just in the first two weeks of the year We saw about nine billion US dollar equivalent flow northbound and stock connect compared to only 13 billion for all of last year So more than half of all last year now that's more on pace for two years ago when it was about 55 billion of inflows into the Uncharted markets, okay, so if it continues in that pace You can see where that could drive things up is it still the equity market is where you play it though I mean you mentioned about you know, it's everything from credit FX it even you know you take a look at when it comes to all Australian miners that requires right is it other ways to place Still I think the unsure I think the offshore equity is kind of priced in at least for the time being so the onshore equity would be Still quite a quite a room to grow I think things like effects have already priced in actually because when dollar room and B came in from 7.3 to 7 now at 6.7 It doesn't have a lot more to go in the short term We think it probably trades between 6.7 to 6.9 for the next month or two and in fact if it goes much lower if dollar Remembe goes much lower if it goes to let's say 6.6 actually what that will probably do is give the PBOC a reason to lower their Policy rates one time because that will give the economic stimulus that to help the economy grow a bit faster But it also lets the room and be strengthened a bit and the dollar room be to go up a little bit So they're kind of comfortable in this 6.7 to 6.9 range And and credit it's been a huge rally on the on the high-yield side Yeah, but it's been been a real bifurcation In some ways the winners and losers have been picked up for the for the higher quality let's say property companies that have not defaulted yet So the list on the there's a list a government list of Issures that the government fund would protect the future issuances of or the big Big six state-owned banks would provide credit lines for these are in pretty good shape actually I mean look I you know Dalian Wondo was able to come to market last week with an unguaranteed US dollar bond 400 million 12% 12 and 3th percent. It's a bit it's a bit pricey, but that's not bad compared to Just a few months ago. Well, I'll get very quickly though. What are you seeing as far as interest of the riskiest parts of this Offer dollar bond market? I think there's it will take time for the interest to come back I think I think people are still mostly staying with the investment grade, but even the investment grade is interesting You know single-a benchmarks like ten cents and Ali Baba these names, right? Yeah high 4% you know It's okay actually or the or the perpetuals of the state-owned state-owned companies and the AMCs at 6% That's attractive for IG. What do you make of just the macro backdrop now? It's almost like these two opposing forces a trying to reopening and then a US in a Europe that's slowing down Yeah You know and for markets to risk assets to really outperform I think you have to have two of those things like that Fed pivot and a ton of it really kind of Kick in and actually actually you know materialize How confident are you of those two things actually making some sort of impact this year? I'm confident of one not so much confident of the other ones I'm pretty confident that the China reopening is happening I think they've changed too many policies in the last two or three months and the central government has said you know Economic growth is their priority for this year So they're going full steam ahead at this point It would be some bumps because they'll take a wall for consumption to return for business sentiment to return But I think the China side I feel pretty confident in the global one I'm a little less confident because everything has been too perfect up until now in the beginning of the year You know the warm winter in Europe inflation coming down a little bit globally So all this and you see since just in the first two weeks of the year You know equity indices in Europe are up almost 10% Even the S&P is up 4% when everything should be recessionary at this point So it doesn't feel quite right actually so it feels like there's a lot more room for the downside of anything disappoints going forward So is that more upside-down room for upset in inflation? Is that what you're trying to say? I'm saying if inflation doesn't come down as quickly as anybody thinks maybe the China reopening adds another hundred basis points to global inflation For example as you see in the commodity prices so hence that's why China is trying to pull back iron ore prices now Right because I think we haven't even seen you know oil prices have been very benign actually right oil prices All the other commodities have been relatively benign So if they start picking up because of the China demand then that will have an effect on the on the global inflation outlook and therefore Global growth at that point\n",
      " So you're saying stage one of this whole reopening play pretty much priced in what does stage two look like to you? Well, I think stage two we have to be a little bit cautious because from November to now It's been such a big rally, you know in the equity markets the FX markets the credit market You know the especially offshore like the Hang saying China enterprise index up 50% since November But the onshore equity market CSI 300 only up about 15% only 15% I think this shows some of the flows as well as well as a composition of the stock indices So a lot of the fast money hedge funds in Hong Kong have covered their shorts in Hong Kong actually and Money fluid and quickly to Hong Kong and it drove up the offshore indices But I think a lot of the big global real money asset managers who reduced their allocations to China Let's say a second half of last year they haven't come back in yet So they come back in there could be another leg up actually later in the year So we really see that also the composition offshore.\n",
      "\n",
      " It's been mostly a tech story You know big names like Tencent or up 100% in November But there's still half where they work two years ago Whereas onshore a lot more will be industrials consumers financials real economy stocks So that will take a bit of time to recover I think but we'll see that for the rest of the year Have you started seeing inflows picking up northbound? Of course, yes, in the China have actually so just in the first two weeks of the year We saw about nine billion US dollar equivalent flow northbound and stock connect compared to only 13 billion for all of last year So more than half of all last year now that's more on pace for two years ago when it was about 55 billion of inflows into the Uncharted markets, okay, so if it continues in that pace You can see where that could drive things up is it still the equity market is where you play it though I mean you mentioned about you know, it's everything from credit FX it even you know you take a look at when it comes to all Australian miners that requires right is it other ways to place Still I think the unsure I think the offshore equity is kind of priced in at least for the time being so the onshore equity would be Still quite a quite a room to grow I think things like effects have already priced in actually because when dollar room and B came in from 7.\n",
      "\n",
      "7 It doesn't have a lot more to go in the short term We think it probably trades between 6.\n",
      "\n",
      "9 for the next month or two and in fact if it goes much lower if dollar Remembe goes much lower if it goes to let's say 6.\n",
      "\n",
      "6 actually what that will probably do is give the PBOC a reason to lower their Policy rates one time because that will give the economic stimulus that to help the economy grow a bit faster But it also lets the room and be strengthened a bit and the dollar room be to go up a little bit So they're kind of comfortable in this 6.\n",
      "\n",
      "9 range And and credit it's been a huge rally on the on the high-yield side Yeah, but it's been been a real bifurcation In some ways the winners and losers have been picked up for the for the higher quality let's say property companies that have not defaulted yet So the list on the there's a list a government list of Issures that the government fund would protect the future issuances of or the big Big six state-owned banks would provide credit lines for these are in pretty good shape actually I mean look I you know Dalian Wondo was able to come to market last week with an unguaranteed US dollar bond 400 million 12% 12 and 3th percent.\n",
      "\n",
      " It's a bit it's a bit pricey, but that's not bad compared to Just a few months ago.\n",
      "\n",
      " Well, I'll get very quickly though.\n",
      "\n",
      " What are you seeing as far as interest of the riskiest parts of this Offer dollar bond market? I think there's it will take time for the interest to come back I think I think people are still mostly staying with the investment grade, but even the investment grade is interesting You know single-a benchmarks like ten cents and Ali Baba these names, right? Yeah high 4% you know It's okay actually or the or the perpetuals of the state-owned state-owned companies and the AMCs at 6% That's attractive for IG.\n",
      "\n",
      " What do you make of just the macro backdrop now? It's almost like these two opposing forces a trying to reopening and then a US in a Europe that's slowing down Yeah You know and for markets to risk assets to really outperform I think you have to have two of those things like that Fed pivot and a ton of it really kind of Kick in and actually actually you know materialize How confident are you of those two things actually making some sort of impact this year? I'm confident of one not so much confident of the other ones I'm pretty confident that the China reopening is happening I think they've changed too many policies in the last two or three months and the central government has said you know Economic growth is their priority for this year So they're going full steam ahead at this point It would be some bumps because they'll take a wall for consumption to return for business sentiment to return But I think the China side I feel pretty confident in the global one I'm a little less confident because everything has been too perfect up until now in the beginning of the year You know the warm winter in Europe inflation coming down a little bit globally So all this and you see since just in the first two weeks of the year You know equity indices in Europe are up almost 10% Even the S&P is up 4% when everything should be recessionary at this point So it doesn't feel quite right actually so it feels like there's a lot more room for the downside of anything disappoints going forward So is that more upside-down room for upset in inflation? Is that what you're trying to say? I'm saying if inflation doesn't come down as quickly as anybody thinks maybe the China reopening adds another hundred basis points to global inflation For example as you see in the commodity prices so hence that's why China is trying to pull back iron ore prices now Right because I think we haven't even seen you know oil prices have been very benign actually right oil prices All the other commodities have been relatively benign So if they start picking up because of the China demand then that will have an effect on the on the global inflation outlook and therefore Global growth at that point.\n",
      "\n",
      " So what did Prime Minister Kishida seek from President Biden and did he get it during this summit? Yes, Kishida was looking for support for Japan's military buildup. It's embarking on one of its big projects, biggest buildups since the end of World War II, 60 percent increase in defense spending over the next five years. And it's a tough sell for the Japanese public. The country is one of the most heavily indebted in the world and it has to be paid for. But by getting the U.S. on board, Japan's only military ally with this buildup, it helped Kishida at home to get support for the spending that's going forward. Russia's invasion of Ukraine really startled Japan and that's one of the reasons why Japan's embarking on this road. How did security plan to Kishida's visit to other G7 members, Italy, the UK, Canada? He had these meetings before Washington. There's a sense of really widening the relationships and perhaps not solely relying on the U.S. Yeah, and before you went to Washington, Kishida made it a point to visit several G7 countries. And at these places, they showed their concern with what's going on in China. Japan and the UK reached a historic agreement, a reciprocal troop agreement where they can station each troops in each other's countries. Japan has one with Australia and the U.S. has been in Japan since, has troops here since the end of World War II. But we're seeing more and more of an outreach from Japan and towards the European Union, towards G7 countries. And the European members of the G7 and EU also see the Indo-Pacific as part of their security as well. So that was a focal point of the first part of Kishida's trip and he seems to have gotten support for that in his visits. John, what have we heard in terms of cooperation in the semiconductor space? Well, the U.S. has been looking for Japan as moving for allies such as Japan, South Korea to join the Biden curves on semiconductor exports to China. After they, in his meeting with Biden, they really didn't hit any substance in it, just showed the commitment to talks. But for Japan, there are key players here who have interest in what goes on in China. It's going to be a difficult cell, but at the same time as part of the alliance, there's been movements within Japan and South Korea more towards the Biden administration's plan. So it's still up in the air. We'll see where it goes in here. But I think the talks may have helped Biden and also added a little bit, express some of the concern that Japan was feeling about the US.\n",
      " So what did Prime Minister Kishida seek from President Biden and did he get it during this summit? Yes, Kishida was looking for support for Japan's military buildup.\n",
      "\n",
      " It's embarking on one of its big projects, biggest buildups since the end of World War II, 60 percent increase in defense spending over the next five years.\n",
      "\n",
      " And it's a tough sell for the Japanese public.\n",
      "\n",
      " The country is one of the most heavily indebted in the world and it has to be paid for.\n",
      "\n",
      " on board, Japan's only military ally with this buildup, it helped Kishida at home to get support for the spending that's going forward.\n",
      "\n",
      " Russia's invasion of Ukraine really startled Japan and that's one of the reasons why Japan's embarking on this road.\n",
      "\n",
      " How did security plan to Kishida's visit to other G7 members, Italy, the UK, Canada? He had these meetings before Washington.\n",
      "\n",
      " Japan has one with Australia and the U.\n",
      "\n",
      " has been in Japan since, has troops here since the end of World War II.\n",
      "\n",
      " So that was a focal point of the first part of Kishida's trip and he seems to have gotten support for that in his visits.\n",
      "\n",
      " So this is just disclosure after this closure this past week. What are we talking about in terms of how sensitive these documents are and if there was any attempt at a cover-up? Well cover-up of course is an explosive word but and even Republicans aren't really using that term yet at all. The problem is we don't and the problem for the White House is that nobody seems to know what is in these documents. Now so far we have been told officially that it's actually a relatively small number but of course in a way that doesn't matter and the whole affair has sort of become this very much self-inflicted crisis for Biden and his administration. Largely because of the way that this is dribbled out and also because it came out that this was known the first initial batch of documents were discovered a few days before the midterm elections in November but of course the word on that only came out last week. So there are sort of in a nutshell you have the political risk and some of the missteps if you like that have characterized the crisis management here. We saw President Biden delivering a sermon in Atlanta over the weekend really testing out the waters when it comes to this expected re-election. Does this crisis self-inflicted as it appears impact this? Sure answers we don't we don't know yet and and and Biden hasn't hasn't given any sign there was renewed speculation in recent days that that he's getting very close and that that could happen that he would announce that he's running for re-election in 2024 sometime maybe in February. And the only thing you can say is this is not helpful for example we heard from from a stalwart Democratic Senator Debbie Stabenow miss again on the Sunday political talk shows who when press said look this is embarrassing and I'm sure the White House would have preferred things to go very differently at this particular point in time. This will be great ammunition for Republicans especially at a time when we know the Democrats have been criticizing President Trump for his issues with classified documents. It will be at the same time of course we often remember that President or former President Trump is under criminal investigation for a similar or if you like larger case of failing to turn over or well of taking. Classified documents with them we all remember the FBI rated Mar-a-Lago last year so it seems that Republicans can only go so far and hammering Biden over this because of course Democrats can immediately say exactly what I just said well look I mean you have your your own former president in this case who did something even worse along the same lines. So the Democrats say the Democrats but it does feed into into this effort by the Republicans would say promise before the midterms to investigate the Biden administration and this is kind of an easy intro into another strand of those investigations. And we heard from some Republicans now saying well it is a matter of national security and we need to look at this and the White House needs to be more forthcoming.\n",
      " So this is just disclosure after this closure this past week.\n",
      "\n",
      " What are we talking about in terms of how sensitive these documents are and if there was any attempt at a cover-up? Well cover-up of course is an explosive word but and even Republicans aren't really using that term yet at all.\n",
      "\n",
      " The problem is we don't and the problem for the White House is that nobody seems to know what is in these documents.\n",
      "\n",
      " Now so far we have been told officially that it's actually a relatively small number but of course in a way that doesn't matter and the whole affair has sort of become this very much self-inflicted crisis for Biden and his administration.\n",
      "\n",
      " Largely because of the way that this is dribbled out and also because it came out that this was known the first initial batch of documents were discovered a few days before the midterm elections in November but of course the word on that only came out last week.\n",
      "\n",
      " So there are sort of in a nutshell you have the political risk and some of the missteps if you like that have characterized the crisis management here.\n",
      "\n",
      " Does this crisis self-inflicted as it appears impact this? Sure answers we don't we don't know yet and and and Biden hasn't hasn't given any sign there was renewed speculation in recent days that that he's getting very close and that that could happen that he would announce that he's running for re-election in 2024 sometime maybe in February.\n",
      "\n",
      " This will be great ammunition for Republicans especially at a time when we know the Democrats have been criticizing President Trump for his issues with classified documents.\n",
      "\n",
      " Classified documents with them we all remember the FBI rated Mar-a-Lago last year so it seems that Republicans can only go so far and hammering Biden over this because of course Democrats can immediately say exactly what I just said well look I mean you have your your own former president in this case who did something even worse along the same lines.\n",
      "\n",
      " And we heard from some Republicans now saying well it is a matter of national security and we need to look at this and the White House needs to be more forthcoming.\n",
      "\n",
      "successful \n",
      "\n",
      "successful \n",
      "\n",
      "Nightly ended at 2023-01-16 20:50:05.661929\n",
      "time elapsed: 4:37:36.129183\n"
     ]
    }
   ],
   "source": [
    "run nightlyDebug.py"
   ]
  },
  {
   "cell_type": "markdown",
   "id": "717f1da6-6437-461f-b388-c70d3710011d",
   "metadata": {
    "tags": []
   },
   "source": [
    "#### Once calculations are run close the connection using:"
   ]
  },
  {
   "cell_type": "code",
   "execution_count": 4,
   "id": "e6db4ca9-5c07-46a6-a491-528f975224ed",
   "metadata": {
    "execution": {
     "iopub.execute_input": "2023-01-17T03:57:31.287879Z",
     "iopub.status.busy": "2023-01-17T03:57:31.285202Z",
     "iopub.status.idle": "2023-01-17T03:57:31.930360Z",
     "shell.execute_reply": "2023-01-17T03:57:31.928420Z",
     "shell.execute_reply.started": "2023-01-17T03:57:31.287800Z"
    },
    "tags": []
   },
   "outputs": [],
   "source": [
    "sc.stop()"
   ]
  },
  {
   "cell_type": "code",
   "execution_count": null,
   "id": "26609d0f-e0b3-4f93-99e9-648d468cbf02",
   "metadata": {},
   "outputs": [],
   "source": []
  }
 ],
 "metadata": {
  "kernelspec": {
   "display_name": "Python 3 (ipykernel)",
   "language": "python",
   "name": "python3"
  },
  "language_info": {
   "codemirror_mode": {
    "name": "ipython",
    "version": 3
   },
   "file_extension": ".py",
   "mimetype": "text/x-python",
   "name": "python",
   "nbconvert_exporter": "python",
   "pygments_lexer": "ipython3",
   "version": "3.9.14"
  }
 },
 "nbformat": 4,
 "nbformat_minor": 5
}
